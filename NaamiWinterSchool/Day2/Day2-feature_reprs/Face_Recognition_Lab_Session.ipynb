{
 "cells": [
  {
   "cell_type": "markdown",
   "metadata": {
    "colab_type": "text",
    "id": "60SbroFWNetO"
   },
   "source": [
    "# **Face Recognition using Eigenfaces**\n",
    "---\n",
    "\n",
    "\n"
   ]
  },
  {
   "cell_type": "markdown",
   "metadata": {
    "colab_type": "text",
    "id": "ru9U1695Icvr"
   },
   "source": [
    "#### We will be using [FEI Face Database](https://fei.edu.br/~cet/facedatabase.html)  for our face recognition purpose. \n",
    "*Datasets consist of faces of 200 people and each person has two frontal images (one with a neutral expression and the other with a smiling facial expression), there are 400 full frontal face images manually registered and cropped.*\n",
    "<br><br>**We will use normalized, equalized and cropped frontal face images.**\n"
   ]
  },
  {
   "cell_type": "markdown",
   "metadata": {
    "colab_type": "text",
    "id": "BP5ZLNC2R3w2"
   },
   "source": [
    "Add dataset in your Colab using:\n",
    "\n",
    "\n",
    "```\n",
    "!wget <link> \n",
    "```\n",
    "\n"
   ]
  },
  {
   "cell_type": "markdown",
   "metadata": {
    "colab_type": "text",
    "id": "iaFH6q_KSx2F"
   },
   "source": [
    "Unzip your zip files using:\n",
    "```\n",
    "!unzip <name_of_your_zip_file>\n",
    "```"
   ]
  },
  {
   "cell_type": "code",
   "execution_count": 1,
   "metadata": {
    "colab": {},
    "colab_type": "code",
    "id": "YFl9qVufLaon"
   },
   "outputs": [],
   "source": [
    "# importing all the necessary packages \n",
    "import numpy as np\n",
    "from matplotlib import pyplot as plt\n",
    "from PIL import Image\n",
    "%matplotlib inline"
   ]
  },
  {
   "cell_type": "markdown",
   "metadata": {
    "colab_type": "text",
    "id": "W3ww40vAWP3x"
   },
   "source": [
    "### Vectorization\n",
    "We will use Python Imaging Library (PIL) to load images from files.\n",
    "`PIL.Image.open()` Opens and identifies the given image file.`Note` Open into greyscale, or L(Luminance) mode: \n",
    "\n",
    "```\n",
    "img = Image.open(f'{i}a.jpg').convert('L')  # i ranges from 1 to 200\n",
    "img = img.resize((width, height),Image.ANTIALIAS) # for speed\n",
    "```\n",
    "Rearrange each Face image N x N into a column vector N<sup>2</sup> x 1. After Vectorization the shape of face matrix should be 200 x (width x height)\n",
    "\n",
    "\n",
    "\n"
   ]
  },
  {
   "cell_type": "code",
   "execution_count": 2,
   "metadata": {},
   "outputs": [],
   "source": [
    "image_array=[]\n",
    "for i in range(1,201):\n",
    "    img = Image.open(f'/home/adhikari/100DT23/NaamiWinterSchool/Day2/Day2-feature_reprs/frontalimages_manuallyaligned_part1/{i}a.jpg').convert('L')  # i ranges from 1 to 200\n",
    "    img = img.resize((50, 50),Image.ANTIALIAS)# for speed\n",
    "    float_image=np.array(img)\n",
    "    float_image=float_image.flatten()\n",
    "    image_array.append(float_image)\n",
    "    image_np_array=np.array(image_array)\n",
    "    #imgplot = plt.imshow(img)\n",
    "    #print(img.size)\n",
    "    "
   ]
  },
  {
   "cell_type": "code",
   "execution_count": null,
   "metadata": {},
   "outputs": [],
   "source": []
  },
  {
   "cell_type": "code",
   "execution_count": 3,
   "metadata": {
    "colab": {},
    "colab_type": "code",
    "id": "bXE9RT4LLkbc"
   },
   "outputs": [
    {
     "name": "stdout",
     "output_type": "stream",
     "text": [
      "(200, 2500)\n"
     ]
    }
   ],
   "source": [
    "# Check face_matrix.shape \n",
    "print(image_np_array.shape)"
   ]
  },
  {
   "cell_type": "code",
   "execution_count": 4,
   "metadata": {
    "colab": {
     "base_uri": "https://localhost:8080/",
     "height": 34
    },
    "colab_type": "code",
    "id": "GMOtYwJGLpcs",
    "outputId": "625e21f7-ff71-4f51-c0e8-b7dc9a1b4037"
   },
   "outputs": [
    {
     "name": "stdout",
     "output_type": "stream",
     "text": [
      "(2500,)\n"
     ]
    }
   ],
   "source": [
    "# Find mean_face\n",
    "mean_face=np.mean(image_np_array,axis=0)\n",
    "print(mean_face.shape)\n"
   ]
  },
  {
   "cell_type": "code",
   "execution_count": 5,
   "metadata": {},
   "outputs": [
    {
     "data": {
      "text/plain": [
       "Text(0.5, 1.0, 'Mean Face')"
      ]
     },
     "execution_count": 5,
     "metadata": {},
     "output_type": "execute_result"
    },
    {
     "data": {
      "image/png": "[encoded data removed]",
      "text/plain": [
       "<Figure size 432x288 with 1 Axes>"
      ]
     },
     "metadata": {
      "needs_background": "light"
     },
     "output_type": "display_data"
    }
   ],
   "source": [
    "plt.imshow(mean_face.reshape(50,50),cmap='gray'); \n",
    "plt.title('Mean Face')"
   ]
  },
  {
   "cell_type": "markdown",
   "metadata": {
    "colab_type": "text",
    "id": "q0OwQ1K6L4v_"
   },
   "source": [
    "\n",
    "\n",
    "```\n",
    "plt.imshow(mean_face.reshape(height,width),cmap='gray'); \n",
    "plt.title('Mean Face')\n",
    "```\n",
    "\n",
    "### Normalization\n"
   ]
  },
  {
   "cell_type": "code",
   "execution_count": 6,
   "metadata": {},
   "outputs": [],
   "source": [
    "norm_matx=[]\n",
    "for i in range(len(image_np_array)):\n",
    "    diff=image_np_array[i]-mean_face\n",
    "    norm_matx.append(diff)\n",
    "    "
   ]
  },
  {
   "cell_type": "code",
   "execution_count": 7,
   "metadata": {
    "colab": {},
    "colab_type": "code",
    "id": "DTQV9LBGIL9O"
   },
   "outputs": [],
   "source": [
    "#Perfrom Normalization\n",
    "normmatrx_np_array=np.array(norm_matx)"
   ]
  },
  {
   "cell_type": "code",
   "execution_count": 15,
   "metadata": {},
   "outputs": [
    {
     "name": "stdout",
     "output_type": "stream",
     "text": [
      "(200, 2500)\n"
     ]
    }
   ],
   "source": [
    "print(normmatrx_np_array.shape)"
   ]
  },
  {
   "cell_type": "code",
   "execution_count": 8,
   "metadata": {},
   "outputs": [],
   "source": [
    "matrx_transp=np.transpose(normmatrx_np_array)"
   ]
  },
  {
   "cell_type": "code",
   "execution_count": null,
   "metadata": {},
   "outputs": [],
   "source": []
  },
  {
   "cell_type": "code",
   "execution_count": 9,
   "metadata": {
    "colab": {},
    "colab_type": "code",
    "id": "W83ZmCxhL70s"
   },
   "outputs": [],
   "source": [
    "# Calculate covariance matrix\n",
    "#np.cov expects features as rows and observations as columns, so transpose\n",
    "matrx_conv=np.cov(matrx_transp)"
   ]
  },
  {
   "cell_type": "code",
   "execution_count": 16,
   "metadata": {},
   "outputs": [
    {
     "name": "stdout",
     "output_type": "stream",
     "text": [
      "<class 'numpy.ndarray'>\n"
     ]
    }
   ],
   "source": [
    "print(type(matrx_conv))"
   ]
  },
  {
   "cell_type": "code",
   "execution_count": 11,
   "metadata": {
    "colab": {},
    "colab_type": "code",
    "id": "-PMGoutjL-sH"
   },
   "outputs": [],
   "source": [
    "#Find Eigen Vectors and Eigen Values, you can use SVD from np.linalg.svd\n",
    "e,v,a=np.linalg.svd(matrx_conv)"
   ]
  },
  {
   "cell_type": "code",
   "execution_count": 12,
   "metadata": {},
   "outputs": [
    {
     "data": {
      "text/plain": [
       "array([[-7.78833915e-03, -4.69477209e-03,  8.48012068e-03, ...,\n",
       "         5.16372770e-04, -2.47723684e-02,  7.25349650e-03],\n",
       "       [-7.62731305e-03, -4.77747109e-03,  8.21960075e-03, ...,\n",
       "         1.50936362e-03,  3.77101243e-02, -4.48356299e-03],\n",
       "       [-8.05206696e-03, -4.66418559e-03,  8.96650789e-03, ...,\n",
       "         1.34551901e-04,  1.69365770e-01,  1.88660111e-01],\n",
       "       ...,\n",
       "       [ 2.41774187e-02,  2.09383639e-02, -1.68110360e-02, ...,\n",
       "        -9.25191953e-03, -2.92554176e-02,  8.21861120e-03],\n",
       "       [ 2.64036578e-02,  2.03503125e-02, -1.60737810e-02, ...,\n",
       "         7.70737270e-03, -3.62238287e-02,  2.62689878e-02],\n",
       "       [ 2.61802015e-02,  2.25685713e-02, -1.65769039e-02, ...,\n",
       "         7.86773341e-03,  5.77685244e-03, -2.29315291e-02]])"
      ]
     },
     "execution_count": 12,
     "metadata": {},
     "output_type": "execute_result"
    }
   ],
   "source": [
    "e"
   ]
  },
  {
   "cell_type": "code",
   "execution_count": 13,
   "metadata": {},
   "outputs": [
    {
     "data": {
      "text/plain": [
       "array([1.38720834e+06, 6.99560347e+05, 2.24217950e+05, ...,\n",
       "       1.28576500e-10, 6.62801267e-11, 3.06621826e-11])"
      ]
     },
     "execution_count": 13,
     "metadata": {},
     "output_type": "execute_result"
    }
   ],
   "source": [
    "v"
   ]
  },
  {
   "cell_type": "code",
   "execution_count": 14,
   "metadata": {},
   "outputs": [
    {
     "data": {
      "text/plain": [
       "array([[-7.78833915e-03, -7.62731305e-03, -8.05206696e-03, ...,\n",
       "         2.41774187e-02,  2.64036578e-02,  2.61802015e-02],\n",
       "       [-4.69477209e-03, -4.77747109e-03, -4.66418559e-03, ...,\n",
       "         2.09383639e-02,  2.03503125e-02,  2.25685713e-02],\n",
       "       [ 8.48012068e-03,  8.21960075e-03,  8.96650789e-03, ...,\n",
       "        -1.68110360e-02, -1.60737810e-02, -1.65769039e-02],\n",
       "       ...,\n",
       "       [ 0.00000000e+00, -1.18149509e-04,  6.20419504e-06, ...,\n",
       "        -7.76979545e-03,  7.95024437e-03, -1.36432873e-02],\n",
       "       [ 9.73630283e-01, -2.13185671e-02, -3.98138500e-02, ...,\n",
       "        -1.74818352e-04,  7.22224382e-04,  2.44275537e-03],\n",
       "       [ 0.00000000e+00, -4.93169643e-03,  8.78491331e-03, ...,\n",
       "        -1.53032019e-02, -1.15311765e-03,  1.00594661e-03]])"
      ]
     },
     "execution_count": 14,
     "metadata": {},
     "output_type": "execute_result"
    }
   ],
   "source": [
    "a"
   ]
  },
  {
   "cell_type": "code",
   "execution_count": null,
   "metadata": {
    "colab_type": "text",
    "id": "5zu-eFNSMCSA"
   },
   "outputs": [],
   "source": [
    "\n",
    "#Plot the first 10 Eigenfaces\n",
    "\n",
    "fig, axs = plt.subplots(1,3,figsize=(15,5))\n",
    "for i in np.arange(10):\n",
    "    ax = plt.subplot(2,5,i+1)\n",
    "    img = <eigen_vectors>[:,i].reshape(height,width)\n",
    "    plt.imshow(img, cmap='gray')\n",
    "fig.suptitle(\"First 10 Eigenfaces\", fontsize=16)\n",
    "\n"
   ]
  },
  {
   "cell_type": "code",
   "execution_count": null,
   "metadata": {
    "colab": {},
    "colab_type": "code",
    "id": "cxHgLEe-JYF-"
   },
   "outputs": [],
   "source": [
    "#Plot the first 10 Eigenfaces"
   ]
  },
  {
   "cell_type": "markdown",
   "metadata": {
    "colab_type": "text",
    "id": "r0BxKSEJMGCN"
   },
   "source": [
    "\n",
    "Reconstruction with increasing Eigenfaces\n",
    "```\n",
    "fig, axs = plt.subplots(2,5,figsize=(15,6))\n",
    "for k, i in zip([0,1,9,19,39,79,159,199,399,799],np.arange(10)):\n",
    "    # Reconstruct the first picture '1a.jpg' whose index is 0.\n",
    "    # Get PC scores of the images (wights)\n",
    "    # Reconstruct first face in dataset using k PCs (projected_face)\n",
    "    ax = plt.subplot(2,5,i+1)\n",
    "    ax.set_title(\"k = \"+str(k+1))\n",
    "    plt.imshow(projected_face.reshape(height,width)+mean_face.reshape(height,width),cmap='gray');\n",
    "```\n",
    "\n"
   ]
  },
  {
   "cell_type": "code",
   "execution_count": null,
   "metadata": {
    "colab": {},
    "colab_type": "code",
    "id": "O5BDr1oaMLwT"
   },
   "outputs": [],
   "source": [
    "# Reconstruct with increasing Eigenfaces"
   ]
  }
 ],
 "metadata": {
  "colab": {
   "collapsed_sections": [],
   "name": "Face Recognition Lab Session.ipynb",
   "provenance": []
  },
  "kernelspec": {
   "display_name": "Python 3",
   "language": "python",
   "name": "python3"
  },
  "language_info": {
   "codemirror_mode": {
    "name": "ipython",
    "version": 3
   },
   "file_extension": ".py",
   "mimetype": "text/x-python",
   "name": "python",
   "nbconvert_exporter": "python",
   "pygments_lexer": "ipython3",
   "version": "3.7.1"
  }
 },
 "nbformat": 4,
 "nbformat_minor": 1
}
