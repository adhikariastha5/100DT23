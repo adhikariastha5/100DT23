{
 "cells": [
  {
   "cell_type": "markdown",
   "metadata": {
    "colab_type": "text",
    "id": "60SbroFWNetO"
   },
   "source": [
    "# **Face Recognition using Eigenfaces**\n",
    "---\n",
    "\n",
    "\n"
   ]
  },
  {
   "cell_type": "markdown",
   "metadata": {
    "colab_type": "text",
    "id": "ru9U1695Icvr"
   },
   "source": [
    "#### We will be using [FEI Face Database](https://fei.edu.br/~cet/facedatabase.html)  for our face recognition purpose. \n",
    "*Datasets consist of faces of 200 people and each person has two frontal images (one with a neutral expression and the other with a smiling facial expression), there are 400 full frontal face images manually registered and cropped.*\n",
    "<br><br>**We will use normalized, equalized and cropped frontal face images.**\n"
   ]
  },
  {
   "cell_type": "markdown",
   "metadata": {
    "colab_type": "text",
    "id": "BP5ZLNC2R3w2"
   },
   "source": [
    "Add dataset in your Colab using:\n",
    "\n",
    "\n",
    "```\n",
    "!wget <link> \n",
    "```\n",
    "\n"
   ]
  },
  {
   "cell_type": "markdown",
   "metadata": {
    "colab_type": "text",
    "id": "iaFH6q_KSx2F"
   },
   "source": [
    "Unzip your zip files using:\n",
    "```\n",
    "!unzip <name_of_your_zip_file>\n",
    "```"
   ]
  },
  {
   "cell_type": "code",
   "execution_count": 1,
   "metadata": {
    "colab": {},
    "colab_type": "code",
    "id": "YFl9qVufLaon"
   },
   "outputs": [],
   "source": [
    "# importing all the necessary packages \n",
    "import numpy as np\n",
    "from matplotlib import pyplot as plt\n",
    "from PIL import Image\n",
    "%matplotlib inline"
   ]
  },
  {
   "cell_type": "markdown",
   "metadata": {
    "colab_type": "text",
    "id": "W3ww40vAWP3x"
   },
   "source": [
    "### Vectorization\n",
    "We will use Python Imaging Library (PIL) to load images from files.\n",
    "`PIL.Image.open()` Opens and identifies the given image file.`Note` Open into greyscale, or L(Luminance) mode: \n",
    "\n",
    "```\n",
    "img = Image.open(f'{i}a.jpg').convert('L')  # i ranges from 1 to 200\n",
    "img = img.resize((width, height),Image.ANTIALIAS) # for speed\n",
    "```\n",
    "Rearrange each Face image N x N into a column vector N<sup>2</sup> x 1. After Vectorization the shape of face matrix should be 200 x (width x height)\n",
    "\n",
    "\n",
    "\n"
   ]
  },
  {
   "cell_type": "code",
   "execution_count": 2,
   "metadata": {},
   "outputs": [],
   "source": [
    "image_array=[]\n",
    "for i in range(1,201):\n",
    "    img = Image.open(f'/home/adhikari/100DT23/NaamiWinterSchool/Day2/Day2-feature_reprs/frontalimages_manuallyaligned_part1/{i}a.jpg').convert('L')  # i ranges from 1 to 200\n",
    "    img = img.resize((50, 50),Image.ANTIALIAS)# for speed\n",
    "    float_image=np.array(img)\n",
    "    float_image=float_image.flatten()\n",
    "    image_array.append(float_image)\n",
    "    image_np_array=np.array(image_array)\n",
    "    #imgplot = plt.imshow(img)\n",
    "    #print(img.size)\n",
    "    "
   ]
  },
  {
   "cell_type": "code",
   "execution_count": null,
   "metadata": {},
   "outputs": [],
   "source": []
  },
  {
   "cell_type": "code",
   "execution_count": 3,
   "metadata": {
    "colab": {},
    "colab_type": "code",
    "id": "bXE9RT4LLkbc"
   },
   "outputs": [
    {
     "name": "stdout",
     "output_type": "stream",
     "text": [
      "(200, 2500)\n"
     ]
    }
   ],
   "source": [
    "# Check face_matrix.shape \n",
    "print(image_np_array.shape)"
   ]
  },
  {
   "cell_type": "code",
   "execution_count": 4,
   "metadata": {
    "colab": {
     "base_uri": "https://localhost:8080/",
     "height": 34
    },
    "colab_type": "code",
    "id": "GMOtYwJGLpcs",
    "outputId": "625e21f7-ff71-4f51-c0e8-b7dc9a1b4037"
   },
   "outputs": [
    {
     "name": "stdout",
     "output_type": "stream",
     "text": [
      "(2500,)\n"
     ]
    }
   ],
   "source": [
    "# Find mean_face\n",
    "mean_face=np.mean(image_np_array,axis=0)\n",
    "print(mean_face.shape)\n"
   ]
  },
  {
   "cell_type": "code",
   "execution_count": 5,
   "metadata": {},
   "outputs": [
    {
     "data": {
      "text/plain": [
       "Text(0.5, 1.0, 'Mean Face')"
      ]
     },
     "execution_count": 5,
     "metadata": {},
     "output_type": "execute_result"
    },
    {
     "data": {
      "image/png": "[encoded data removed]",
      "text/plain": [
       "<Figure size 432x288 with 1 Axes>"
      ]
     },
     "metadata": {
      "needs_background": "light"
     },
     "output_type": "display_data"
    }
   ],
   "source": [
    "plt.imshow(mean_face.reshape(50,50),cmap='gray'); \n",
    "plt.title('Mean Face')"
   ]
  },
  {
   "cell_type": "markdown",
   "metadata": {
    "colab_type": "text",
    "id": "q0OwQ1K6L4v_"
   },
   "source": [
    "\n",
    "\n",
    "```\n",
    "plt.imshow(mean_face.reshape(height,width),cmap='gray'); \n",
    "plt.title('Mean Face')\n",
    "```\n",
    "\n",
    "### Normalization\n"
   ]
  },
  {
   "cell_type": "code",
   "execution_count": 6,
   "metadata": {},
   "outputs": [],
   "source": [
    "norm_matx=[]\n",
    "for i in range(len(image_np_array)):\n",
    "    diff=image_np_array[i]-mean_face\n",
    "    norm_matx.append(diff)\n",
    "    "
   ]
  },
  {
   "cell_type": "code",
   "execution_count": 7,
   "metadata": {
    "colab": {},
    "colab_type": "code",
    "id": "DTQV9LBGIL9O"
   },
   "outputs": [],
   "source": [
    "#Perfrom Normalization\n",
    "normmatrx_np_array=np.array(norm_matx)"
   ]
  },
  {
   "cell_type": "code",
   "execution_count": 8,
   "metadata": {},
   "outputs": [
    {
     "name": "stdout",
     "output_type": "stream",
     "text": [
      "(200, 2500)\n"
     ]
    }
   ],
   "source": [
    "print(normmatrx_np_array.shape)"
   ]
  },
  {
   "cell_type": "code",
   "execution_count": 9,
   "metadata": {},
   "outputs": [],
   "source": [
    "matrx_transp=np.transpose(normmatrx_np_array)"
   ]
  },
  {
   "cell_type": "code",
   "execution_count": null,
   "metadata": {},
   "outputs": [],
   "source": []
  },
  {
   "cell_type": "code",
   "execution_count": 10,
   "metadata": {
    "colab": {},
    "colab_type": "code",
    "id": "W83ZmCxhL70s"
   },
   "outputs": [],
   "source": [
    "# Calculate covariance matrix\n",
    "#np.cov expects features as rows and observations as columns, so transpose\n",
    "matrx_conv=np.cov(matrx_transp)"
   ]
  },
  {
   "cell_type": "code",
   "execution_count": 11,
   "metadata": {},
   "outputs": [
    {
     "name": "stdout",
     "output_type": "stream",
     "text": [
      "<class 'numpy.ndarray'>\n"
     ]
    }
   ],
   "source": [
    "print(type(matrx_conv))"
   ]
  },
  {
   "cell_type": "code",
   "execution_count": 12,
   "metadata": {
    "colab": {},
    "colab_type": "code",
    "id": "-PMGoutjL-sH"
   },
   "outputs": [],
   "source": [
    "#Find Eigen Vectors and Eigen Values, you can use SVD from np.linalg.svd\n",
    "a0,a1,a2=np.linalg.svd(matrx_conv)"
   ]
  },
  {
   "cell_type": "code",
   "execution_count": 13,
   "metadata": {},
   "outputs": [
    {
     "data": {
      "text/plain": [
       "(2500, 2500)"
      ]
     },
     "execution_count": 13,
     "metadata": {},
     "output_type": "execute_result"
    }
   ],
   "source": [
    "a0.shape"
   ]
  },
  {
   "cell_type": "code",
   "execution_count": 14,
   "metadata": {},
   "outputs": [
    {
     "data": {
      "text/plain": [
       "(2500,)"
      ]
     },
     "execution_count": 14,
     "metadata": {},
     "output_type": "execute_result"
    }
   ],
   "source": [
    "a1.shape"
   ]
  },
  {
   "cell_type": "code",
   "execution_count": 15,
   "metadata": {},
   "outputs": [
    {
     "data": {
      "text/plain": [
       "(2500, 2500)"
      ]
     },
     "execution_count": 15,
     "metadata": {},
     "output_type": "execute_result"
    }
   ],
   "source": [
    "a2.shape"
   ]
  },
  {
   "cell_type": "code",
   "execution_count": 17,
   "metadata": {
    "colab_type": "text",
    "id": "5zu-eFNSMCSA"
   },
   "outputs": [
    {
     "data": {
      "text/plain": [
       "Text(0.5, 0.98, 'First 10 Eigenfaces')"
      ]
     },
     "execution_count": 17,
     "metadata": {},
     "output_type": "execute_result"
    },
    {
     "data": {
      "image/png": "[encoded data removed]",
      "text/plain": [
       "<Figure size 1080x360 with 10 Axes>"
      ]
     },
     "metadata": {
      "needs_background": "light"
     },
     "output_type": "display_data"
    }
   ],
   "source": [
    "\n",
    "#Plot the first 10 Eigenfaces\n",
    "\n",
    "fig, axs = plt.subplots(1,3,figsize=(15,5))\n",
    "for i in np.arange(10):\n",
    "    ax = plt.subplot(2,5,i+1)\n",
    "    img = a0[:,i].reshape(50,50)\n",
    "    plt.imshow(img, cmap='gray')\n",
    "fig.suptitle(\"First 10 Eigenfaces\", fontsize=16)\n",
    "\n"
   ]
  },
  {
   "cell_type": "code",
   "execution_count": null,
   "metadata": {
    "colab_type": "text",
    "id": "r0BxKSEJMGCN"
   },
   "outputs": [],
   "source": [
    "\n",
    "#Reconstruction with increasing Eigenfaces\n",
    "fig, axs = plt.subplots(2,5,figsize=(15,6))\n",
    "for k, i in zip([0,1,9,19,39,79,159,199,399,799],np.arange(10)):\n",
    "    # Reconstruct the first picture '1a.jpg' whose index is 0.\n",
    "    img = Image.open(f'/home/adhikari/100DT23/NaamiWinterSchool/Day2/Day2-feature_reprs/frontalimages_manuallyaligned_part1/{i}a.jpg').convert('L')\n",
    "    # Get PC scores of the images (wights)\n",
    "    # Reconstruct first face in dataset using k PCs (projected_face)\n",
    "    ax = plt.subplot(2,5,i+1)\n",
    "    ax.set_title(\"k = \"+str(k+1))\n",
    "    plt.imshow(projected_face.reshape(height,width)+mean_face.reshape(height,width),cmap='gray');\n",
    "\n"
   ]
  },
  {
   "cell_type": "code",
   "execution_count": null,
   "metadata": {
    "colab": {},
    "colab_type": "code",
    "id": "O5BDr1oaMLwT"
   },
   "outputs": [],
   "source": [
    "# Reconstruct with increasing Eigenfaces"
   ]
  }
 ],
 "metadata": {
  "colab": {
   "collapsed_sections": [],
   "name": "Face Recognition Lab Session.ipynb",
   "provenance": []
  },
  "kernelspec": {
   "display_name": "Python 3",
   "language": "python",
   "name": "python3"
  },
  "language_info": {
   "codemirror_mode": {
    "name": "ipython",
    "version": 3
   },
   "file_extension": ".py",
   "mimetype": "text/x-python",
   "name": "python",
   "nbconvert_exporter": "python",
   "pygments_lexer": "ipython3",
   "version": "3.7.1"
  }
 },
 "nbformat": 4,
 "nbformat_minor": 1
}
