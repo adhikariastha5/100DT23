{
 "cells": [
  {
   "cell_type": "markdown",
   "metadata": {},
   "source": [
    "<h1 style=\"text-align: center;\" markdown=\"1\">AI Winter School 2019</h1> \n",
    "<h2 style=\"text-align: center;\" markdown=\"2\">Dec 10 - Dec 20, 2019</h2>\n",
    "<h3 style=\"text-align: center;\" markdown=\"3\">Lab on Linear Regression</h3>\n",
    "\n",
    "\n",
    "> *This notebook is part of the AI Winter School 2019 organized by NAAMII. The objectives of this notebook is to use Linear Regression to predict district wise poverty rates in Nepal using predictor variables such as literacy rate, household size, share of kids etc. The data used in this exercise is part of Census 2011 conducted by the Central Bureau of Statistics (CBS), Nepal.*\n"
   ]
  },
  {
   "cell_type": "markdown",
   "metadata": {},
   "source": [
    "# Table of Contents\n",
    "\n",
    "[Introduction](#introduction)  \n",
    "&nbsp;&nbsp;&nbsp;[Explanation and Theory](#introduction-theory)  \n",
    "[Data Setup](#setup)  \n",
    "[Two Dimensional Linear Regression](#1dlinreg)   \n",
    "[Scikit-Learn Linear Regression](#sklearn-linreg)    \n",
    "[Summary](#summary)"
   ]
  },
  {
   "cell_type": "markdown",
   "metadata": {},
   "source": [
    "# Linear Regression Introduction <a class=\"anchor\" id=\"introduction\"></a>\n",
    "\n",
    "Linear regression is one of the most simple and well-known machine learning algorithms for regression. It approximates the relationship between two or more variables using a straight line. \n",
    "\n",
    "It assumes that there is a linear relationship between the independent variables and the dependent variables. In high-dimensional datasets, this may not be the case, so linear regression may not be the best choice for many problems.\n",
    "\n"
   ]
  },
  {
   "cell_type": "markdown",
   "metadata": {},
   "source": [
    "## Explanation and Theory <a class=\"anchor\" id=\"introduction-theory\"></a>\n",
    "\n",
    "**Assumptions and properties.** \n",
    "Suppose we have a data set that consists of n samples and m features\n",
    "\n",
    "\\begin{equation}\n",
    "\\label{eqn:samples}\n",
    "\\mathbf{X} = \\{\\mathbf{x_1}, \\mathbf{x_2}, \\ldots \\mathbf{x_n}\\}, \\quad   \\mathbf{x_i} \\in \\mathbb{R}^{m}\n",
    "\\end{equation}\n",
    "\n",
    "where\n",
    "\n",
    "\\begin{equation}\n",
    "\\label{eqn:features}\n",
    "\\mathbf{x_i} =  (x_i^{(1)}, x_i^{(2)}, \\ldots x_i^{(m)} ) ^T\n",
    "\\end{equation}\n",
    "\n",
    "The target variable is given by\n",
    "\\begin{equation}\n",
    "\\label{eqn:target}\n",
    "\\mathbf{Y}= \\{y_1, y_2 \\ldots y_n \\} \\quad where \\,\\,\\, y_j \\in (0,1)\n",
    "\\end{equation}\n",
    "\n",
    "**Algorithm and Training.** Linear regression takes the form of a linear model:\n",
    "\n",
    "$$f(i)=\\beta_0+\\beta_1x_{i}^{(1)}+...+\\beta_m x_{i}^{(m)} $$\n",
    "\n",
    "where $\\beta_0,...,\\beta_m$ are the regression coefficients or weights assigned to each feature $x$. For each data point $i$, a pseudo-variable $x_{0,i}=1$ is added to correspond to the intercept coefficient $\\beta_0$. This allows us to write the model in vector form as:\n",
    "$$f(i)=\\boldsymbol{\\beta}\\cdot\\boldsymbol{X_i}$$\n",
    "\n",
    "When we train the linear regression classifier, we are trying to find the best values of $\\beta$ to match the data i.e minimizes the following error functional or **objective function**:\n",
    "$$ \\frac{1}{2} \\sum_{i=1}^{n} (y_i - f(i))^2$$\n",
    "\n",
    "There are several techniques to do solve this minimization problem, such as [gradient descent](https://en.wikipedia.org/wiki/Gradient_descent)."
   ]
  },
  {
   "cell_type": "markdown",
   "metadata": {},
   "source": [
    "# Data setup<a class=\"anchor\" id=\"setup\"></a>"
   ]
  },
  {
   "cell_type": "markdown",
   "metadata": {},
   "source": [
    "First, we'll load the libraries that will be used throughout this notebook."
   ]
  },
  {
   "cell_type": "code",
   "execution_count": 1,
   "metadata": {
    "colab": {},
    "colab_type": "code",
    "id": "aAAH9q7UP_yy"
   },
   "outputs": [],
   "source": [
    "import pandas as pd\n",
    "from matplotlib import pyplot as plt\n",
    "%matplotlib inline\n",
    "import seaborn as sns\n",
    "import random"
   ]
  },
  {
   "cell_type": "code",
   "execution_count": 2,
   "metadata": {
    "colab": {},
    "colab_type": "code",
    "id": "dX7Hmgc5GnOt"
   },
   "outputs": [],
   "source": [
    "from sklearn.model_selection import train_test_split\n",
    "from sklearn.linear_model import LinearRegression"
   ]
  },
  {
   "cell_type": "markdown",
   "metadata": {},
   "source": [
    "Loading data. In this notebook we should have cleaned and organized the data already, so we should simply have to import our data file into a dataframe"
   ]
  },
  {
   "cell_type": "code",
   "execution_count": 3,
   "metadata": {},
   "outputs": [],
   "source": [
    "#copy path of your file inside quotes\n",
    "df = pd.read_csv(\"../Modeling/lin_reg_educ_share.csv\")\n"
   ]
  },
  {
   "cell_type": "code",
   "execution_count": 4,
   "metadata": {
    "colab": {},
    "colab_type": "code",
    "id": "qcwiA5EFVn8X"
   },
   "outputs": [
    {
     "data": {
      "text/html": [
       "<div>\n",
       "<style scoped>\n",
       "    .dataframe tbody tr th:only-of-type {\n",
       "        vertical-align: middle;\n",
       "    }\n",
       "\n",
       "    .dataframe tbody tr th {\n",
       "        vertical-align: top;\n",
       "    }\n",
       "\n",
       "    .dataframe thead th {\n",
       "        text-align: right;\n",
       "    }\n",
       "</style>\n",
       "<table border=\"1\" class=\"dataframe\">\n",
       "  <thead>\n",
       "    <tr style=\"text-align: right;\">\n",
       "      <th></th>\n",
       "      <th>Unnamed: 0</th>\n",
       "      <th>male</th>\n",
       "      <th>literacy rate</th>\n",
       "      <th>years_educ1</th>\n",
       "      <th>years_educ2</th>\n",
       "      <th>years_educ3</th>\n",
       "      <th>years_educ4</th>\n",
       "      <th>years_educ5</th>\n",
       "      <th>years_educ6</th>\n",
       "      <th>years_educ7</th>\n",
       "      <th>years_educ8</th>\n",
       "      <th>hhsize</th>\n",
       "      <th>poverty rate</th>\n",
       "      <th>nkid06</th>\n",
       "      <th>nkid715</th>\n",
       "    </tr>\n",
       "  </thead>\n",
       "  <tbody>\n",
       "    <tr>\n",
       "      <th>0</th>\n",
       "      <td>Achham</td>\n",
       "      <td>0.461668</td>\n",
       "      <td>0.476151</td>\n",
       "      <td>0.080331</td>\n",
       "      <td>0.394979</td>\n",
       "      <td>0.224853</td>\n",
       "      <td>0.145161</td>\n",
       "      <td>0.099263</td>\n",
       "      <td>0.001059</td>\n",
       "      <td>0.050133</td>\n",
       "      <td>0.004221</td>\n",
       "      <td>6.322215</td>\n",
       "      <td>0.472</td>\n",
       "      <td>0.750000</td>\n",
       "      <td>1.166667</td>\n",
       "    </tr>\n",
       "    <tr>\n",
       "      <th>1</th>\n",
       "      <td>Arghakhanchi</td>\n",
       "      <td>0.433736</td>\n",
       "      <td>0.652446</td>\n",
       "      <td>0.039106</td>\n",
       "      <td>0.298637</td>\n",
       "      <td>0.253662</td>\n",
       "      <td>0.189621</td>\n",
       "      <td>0.157736</td>\n",
       "      <td>0.000844</td>\n",
       "      <td>0.057360</td>\n",
       "      <td>0.003033</td>\n",
       "      <td>5.179200</td>\n",
       "      <td>0.288</td>\n",
       "      <td>0.458333</td>\n",
       "      <td>1.020833</td>\n",
       "    </tr>\n",
       "    <tr>\n",
       "      <th>2</th>\n",
       "      <td>Baglung</td>\n",
       "      <td>0.438207</td>\n",
       "      <td>0.647397</td>\n",
       "      <td>0.043599</td>\n",
       "      <td>0.301124</td>\n",
       "      <td>0.239773</td>\n",
       "      <td>0.186960</td>\n",
       "      <td>0.154035</td>\n",
       "      <td>0.000375</td>\n",
       "      <td>0.070341</td>\n",
       "      <td>0.003793</td>\n",
       "      <td>5.378669</td>\n",
       "      <td>0.229</td>\n",
       "      <td>0.716667</td>\n",
       "      <td>1.083333</td>\n",
       "    </tr>\n",
       "    <tr>\n",
       "      <th>3</th>\n",
       "      <td>Baitadi</td>\n",
       "      <td>0.464469</td>\n",
       "      <td>0.548497</td>\n",
       "      <td>0.058514</td>\n",
       "      <td>0.346258</td>\n",
       "      <td>0.259600</td>\n",
       "      <td>0.186120</td>\n",
       "      <td>0.114269</td>\n",
       "      <td>0.000787</td>\n",
       "      <td>0.030814</td>\n",
       "      <td>0.003637</td>\n",
       "      <td>6.748073</td>\n",
       "      <td>0.457</td>\n",
       "      <td>1.133333</td>\n",
       "      <td>1.416667</td>\n",
       "    </tr>\n",
       "    <tr>\n",
       "      <th>4</th>\n",
       "      <td>Bajhang</td>\n",
       "      <td>0.477381</td>\n",
       "      <td>0.488333</td>\n",
       "      <td>0.073606</td>\n",
       "      <td>0.417432</td>\n",
       "      <td>0.219511</td>\n",
       "      <td>0.138940</td>\n",
       "      <td>0.112037</td>\n",
       "      <td>0.000483</td>\n",
       "      <td>0.034308</td>\n",
       "      <td>0.003682</td>\n",
       "      <td>6.945809</td>\n",
       "      <td>0.568</td>\n",
       "      <td>0.777778</td>\n",
       "      <td>1.583333</td>\n",
       "    </tr>\n",
       "  </tbody>\n",
       "</table>\n",
       "</div>"
      ],
      "text/plain": [
       "     Unnamed: 0      male  literacy rate  years_educ1  years_educ2  \\\n",
       "0        Achham  0.461668       0.476151     0.080331     0.394979   \n",
       "1  Arghakhanchi  0.433736       0.652446     0.039106     0.298637   \n",
       "2       Baglung  0.438207       0.647397     0.043599     0.301124   \n",
       "3       Baitadi  0.464469       0.548497     0.058514     0.346258   \n",
       "4       Bajhang  0.477381       0.488333     0.073606     0.417432   \n",
       "\n",
       "   years_educ3  years_educ4  years_educ5  years_educ6  years_educ7  \\\n",
       "0     0.224853     0.145161     0.099263     0.001059     0.050133   \n",
       "1     0.253662     0.189621     0.157736     0.000844     0.057360   \n",
       "2     0.239773     0.186960     0.154035     0.000375     0.070341   \n",
       "3     0.259600     0.186120     0.114269     0.000787     0.030814   \n",
       "4     0.219511     0.138940     0.112037     0.000483     0.034308   \n",
       "\n",
       "   years_educ8    hhsize  poverty rate    nkid06   nkid715  \n",
       "0     0.004221  6.322215         0.472  0.750000  1.166667  \n",
       "1     0.003033  5.179200         0.288  0.458333  1.020833  \n",
       "2     0.003793  5.378669         0.229  0.716667  1.083333  \n",
       "3     0.003637  6.748073         0.457  1.133333  1.416667  \n",
       "4     0.003682  6.945809         0.568  0.777778  1.583333  "
      ]
     },
     "execution_count": 4,
     "metadata": {},
     "output_type": "execute_result"
    }
   ],
   "source": [
    "#Write the code to display the first 5 columns of the dataframe\n",
    "df.head()"
   ]
  },
  {
   "cell_type": "code",
   "execution_count": 5,
   "metadata": {
    "colab": {
     "base_uri": "https://localhost:8080/",
     "height": 35
    },
    "colab_type": "code",
    "id": "Spn6pMkxe3nv",
    "outputId": "166a3635-0a44-4dc7-a1f4-0dee17d90a0d"
   },
   "outputs": [
    {
     "data": {
      "text/plain": [
       "(71, 15)"
      ]
     },
     "execution_count": 5,
     "metadata": {},
     "output_type": "execute_result"
    }
   ],
   "source": [
    "#Write the code to display the number of rows and columns of the dataframe\n",
    "df.shape"
   ]
  },
  {
   "cell_type": "code",
   "execution_count": 6,
   "metadata": {},
   "outputs": [],
   "source": [
    "#rename the column 'Unnamed: 0' to 'district'\n",
    "df.rename(columns = {'Unnamed: 0': 'district'},inplace=True)"
   ]
  },
  {
   "cell_type": "code",
   "execution_count": 7,
   "metadata": {},
   "outputs": [
    {
     "data": {
      "text/html": [
       "<div>\n",
       "<style scoped>\n",
       "    .dataframe tbody tr th:only-of-type {\n",
       "        vertical-align: middle;\n",
       "    }\n",
       "\n",
       "    .dataframe tbody tr th {\n",
       "        vertical-align: top;\n",
       "    }\n",
       "\n",
       "    .dataframe thead th {\n",
       "        text-align: right;\n",
       "    }\n",
       "</style>\n",
       "<table border=\"1\" class=\"dataframe\">\n",
       "  <thead>\n",
       "    <tr style=\"text-align: right;\">\n",
       "      <th></th>\n",
       "      <th>district</th>\n",
       "      <th>male</th>\n",
       "      <th>literacy rate</th>\n",
       "      <th>years_educ1</th>\n",
       "      <th>years_educ2</th>\n",
       "      <th>years_educ3</th>\n",
       "      <th>years_educ4</th>\n",
       "      <th>years_educ5</th>\n",
       "      <th>years_educ6</th>\n",
       "      <th>years_educ7</th>\n",
       "      <th>years_educ8</th>\n",
       "      <th>hhsize</th>\n",
       "      <th>poverty rate</th>\n",
       "      <th>nkid06</th>\n",
       "      <th>nkid715</th>\n",
       "    </tr>\n",
       "  </thead>\n",
       "  <tbody>\n",
       "    <tr>\n",
       "      <th>0</th>\n",
       "      <td>Achham</td>\n",
       "      <td>0.461668</td>\n",
       "      <td>0.476151</td>\n",
       "      <td>0.080331</td>\n",
       "      <td>0.394979</td>\n",
       "      <td>0.224853</td>\n",
       "      <td>0.145161</td>\n",
       "      <td>0.099263</td>\n",
       "      <td>0.001059</td>\n",
       "      <td>0.050133</td>\n",
       "      <td>0.004221</td>\n",
       "      <td>6.322215</td>\n",
       "      <td>0.472</td>\n",
       "      <td>0.750000</td>\n",
       "      <td>1.166667</td>\n",
       "    </tr>\n",
       "    <tr>\n",
       "      <th>1</th>\n",
       "      <td>Arghakhanchi</td>\n",
       "      <td>0.433736</td>\n",
       "      <td>0.652446</td>\n",
       "      <td>0.039106</td>\n",
       "      <td>0.298637</td>\n",
       "      <td>0.253662</td>\n",
       "      <td>0.189621</td>\n",
       "      <td>0.157736</td>\n",
       "      <td>0.000844</td>\n",
       "      <td>0.057360</td>\n",
       "      <td>0.003033</td>\n",
       "      <td>5.179200</td>\n",
       "      <td>0.288</td>\n",
       "      <td>0.458333</td>\n",
       "      <td>1.020833</td>\n",
       "    </tr>\n",
       "    <tr>\n",
       "      <th>2</th>\n",
       "      <td>Baglung</td>\n",
       "      <td>0.438207</td>\n",
       "      <td>0.647397</td>\n",
       "      <td>0.043599</td>\n",
       "      <td>0.301124</td>\n",
       "      <td>0.239773</td>\n",
       "      <td>0.186960</td>\n",
       "      <td>0.154035</td>\n",
       "      <td>0.000375</td>\n",
       "      <td>0.070341</td>\n",
       "      <td>0.003793</td>\n",
       "      <td>5.378669</td>\n",
       "      <td>0.229</td>\n",
       "      <td>0.716667</td>\n",
       "      <td>1.083333</td>\n",
       "    </tr>\n",
       "    <tr>\n",
       "      <th>3</th>\n",
       "      <td>Baitadi</td>\n",
       "      <td>0.464469</td>\n",
       "      <td>0.548497</td>\n",
       "      <td>0.058514</td>\n",
       "      <td>0.346258</td>\n",
       "      <td>0.259600</td>\n",
       "      <td>0.186120</td>\n",
       "      <td>0.114269</td>\n",
       "      <td>0.000787</td>\n",
       "      <td>0.030814</td>\n",
       "      <td>0.003637</td>\n",
       "      <td>6.748073</td>\n",
       "      <td>0.457</td>\n",
       "      <td>1.133333</td>\n",
       "      <td>1.416667</td>\n",
       "    </tr>\n",
       "    <tr>\n",
       "      <th>4</th>\n",
       "      <td>Bajhang</td>\n",
       "      <td>0.477381</td>\n",
       "      <td>0.488333</td>\n",
       "      <td>0.073606</td>\n",
       "      <td>0.417432</td>\n",
       "      <td>0.219511</td>\n",
       "      <td>0.138940</td>\n",
       "      <td>0.112037</td>\n",
       "      <td>0.000483</td>\n",
       "      <td>0.034308</td>\n",
       "      <td>0.003682</td>\n",
       "      <td>6.945809</td>\n",
       "      <td>0.568</td>\n",
       "      <td>0.777778</td>\n",
       "      <td>1.583333</td>\n",
       "    </tr>\n",
       "  </tbody>\n",
       "</table>\n",
       "</div>"
      ],
      "text/plain": [
       "       district      male  literacy rate  years_educ1  years_educ2  \\\n",
       "0        Achham  0.461668       0.476151     0.080331     0.394979   \n",
       "1  Arghakhanchi  0.433736       0.652446     0.039106     0.298637   \n",
       "2       Baglung  0.438207       0.647397     0.043599     0.301124   \n",
       "3       Baitadi  0.464469       0.548497     0.058514     0.346258   \n",
       "4       Bajhang  0.477381       0.488333     0.073606     0.417432   \n",
       "\n",
       "   years_educ3  years_educ4  years_educ5  years_educ6  years_educ7  \\\n",
       "0     0.224853     0.145161     0.099263     0.001059     0.050133   \n",
       "1     0.253662     0.189621     0.157736     0.000844     0.057360   \n",
       "2     0.239773     0.186960     0.154035     0.000375     0.070341   \n",
       "3     0.259600     0.186120     0.114269     0.000787     0.030814   \n",
       "4     0.219511     0.138940     0.112037     0.000483     0.034308   \n",
       "\n",
       "   years_educ8    hhsize  poverty rate    nkid06   nkid715  \n",
       "0     0.004221  6.322215         0.472  0.750000  1.166667  \n",
       "1     0.003033  5.179200         0.288  0.458333  1.020833  \n",
       "2     0.003793  5.378669         0.229  0.716667  1.083333  \n",
       "3     0.003637  6.748073         0.457  1.133333  1.416667  \n",
       "4     0.003682  6.945809         0.568  0.777778  1.583333  "
      ]
     },
     "execution_count": 7,
     "metadata": {},
     "output_type": "execute_result"
    }
   ],
   "source": [
    "df.head()"
   ]
  },
  {
   "cell_type": "markdown",
   "metadata": {},
   "source": [
    "# Two Dimensional Linear Regression<a class=\"anchor\" id=\"1dlinreg\"></a>"
   ]
  },
  {
   "cell_type": "markdown",
   "metadata": {},
   "source": [
    "We will begin by using linear regression to estimate poverty rates for each district using only one independent variable - literacy rate. Let's begin by making a scatter plot of the Poverty rate vs. Literacy rate to get a sense of how they depend on one another. "
   ]
  },
  {
   "cell_type": "code",
   "execution_count": 8,
   "metadata": {},
   "outputs": [
    {
     "data": {
      "text/plain": [
       "Text(0.5, 1.0, 'Poverty Rate vs. Literacy Rate in Districts of Nepal')"
      ]
     },
     "execution_count": 8,
     "metadata": {},
     "output_type": "execute_result"
    },
    {
     "data": {
      "image/png": "[encoded data removed]",
      "text/plain": [
       "<Figure size 432x288 with 1 Axes>"
      ]
     },
     "metadata": {
      "needs_background": "light"
     },
     "output_type": "display_data"
    }
   ],
   "source": [
    "plt.scatter(df['literacy rate'],df['poverty rate'])\n",
    "plt.xlabel('Literacy Rate')\n",
    "plt.ylabel('Poverty Rate')\n",
    "plt.title('Poverty Rate vs. Literacy Rate in Districts of Nepal')"
   ]
  },
  {
   "cell_type": "markdown",
   "metadata": {},
   "source": [
    "It looks like the Poverty rate is inversely related to Literacy rate in a somewhat linear way. We can quantify this relationship by finding the correlation between the two variables."
   ]
  },
  {
   "cell_type": "code",
   "execution_count": 9,
   "metadata": {
    "colab": {},
    "colab_type": "code",
    "id": "jjtIBs5tzFDC"
   },
   "outputs": [
    {
     "data": {
      "text/plain": [
       "-0.6798893910120695"
      ]
     },
     "execution_count": 9,
     "metadata": {},
     "output_type": "execute_result"
    }
   ],
   "source": [
    "#Write the code to find the pearson's correlation between literacy rate and poverty rate\n",
    "df['literacy rate'].corr(df['poverty rate'], method='pearson')"
   ]
  },
  {
   "cell_type": "code",
   "execution_count": 10,
   "metadata": {},
   "outputs": [
    {
     "data": {
      "text/html": [
       "<div>\n",
       "<style scoped>\n",
       "    .dataframe tbody tr th:only-of-type {\n",
       "        vertical-align: middle;\n",
       "    }\n",
       "\n",
       "    .dataframe tbody tr th {\n",
       "        vertical-align: top;\n",
       "    }\n",
       "\n",
       "    .dataframe thead th {\n",
       "        text-align: right;\n",
       "    }\n",
       "</style>\n",
       "<table border=\"1\" class=\"dataframe\">\n",
       "  <thead>\n",
       "    <tr style=\"text-align: right;\">\n",
       "      <th></th>\n",
       "      <th>district</th>\n",
       "      <th>male</th>\n",
       "      <th>literacy rate</th>\n",
       "      <th>years_educ1</th>\n",
       "      <th>years_educ2</th>\n",
       "      <th>years_educ3</th>\n",
       "      <th>years_educ4</th>\n",
       "      <th>years_educ5</th>\n",
       "      <th>years_educ6</th>\n",
       "      <th>years_educ7</th>\n",
       "      <th>years_educ8</th>\n",
       "      <th>hhsize</th>\n",
       "      <th>poverty rate</th>\n",
       "      <th>nkid06</th>\n",
       "      <th>nkid715</th>\n",
       "    </tr>\n",
       "  </thead>\n",
       "  <tbody>\n",
       "    <tr>\n",
       "      <th>0</th>\n",
       "      <td>Achham</td>\n",
       "      <td>0.461668</td>\n",
       "      <td>0.476151</td>\n",
       "      <td>0.080331</td>\n",
       "      <td>0.394979</td>\n",
       "      <td>0.224853</td>\n",
       "      <td>0.145161</td>\n",
       "      <td>0.099263</td>\n",
       "      <td>0.001059</td>\n",
       "      <td>0.050133</td>\n",
       "      <td>0.004221</td>\n",
       "      <td>6.322215</td>\n",
       "      <td>0.472</td>\n",
       "      <td>0.750000</td>\n",
       "      <td>1.166667</td>\n",
       "    </tr>\n",
       "    <tr>\n",
       "      <th>1</th>\n",
       "      <td>Arghakhanchi</td>\n",
       "      <td>0.433736</td>\n",
       "      <td>0.652446</td>\n",
       "      <td>0.039106</td>\n",
       "      <td>0.298637</td>\n",
       "      <td>0.253662</td>\n",
       "      <td>0.189621</td>\n",
       "      <td>0.157736</td>\n",
       "      <td>0.000844</td>\n",
       "      <td>0.057360</td>\n",
       "      <td>0.003033</td>\n",
       "      <td>5.179200</td>\n",
       "      <td>0.288</td>\n",
       "      <td>0.458333</td>\n",
       "      <td>1.020833</td>\n",
       "    </tr>\n",
       "    <tr>\n",
       "      <th>2</th>\n",
       "      <td>Baglung</td>\n",
       "      <td>0.438207</td>\n",
       "      <td>0.647397</td>\n",
       "      <td>0.043599</td>\n",
       "      <td>0.301124</td>\n",
       "      <td>0.239773</td>\n",
       "      <td>0.186960</td>\n",
       "      <td>0.154035</td>\n",
       "      <td>0.000375</td>\n",
       "      <td>0.070341</td>\n",
       "      <td>0.003793</td>\n",
       "      <td>5.378669</td>\n",
       "      <td>0.229</td>\n",
       "      <td>0.716667</td>\n",
       "      <td>1.083333</td>\n",
       "    </tr>\n",
       "    <tr>\n",
       "      <th>3</th>\n",
       "      <td>Baitadi</td>\n",
       "      <td>0.464469</td>\n",
       "      <td>0.548497</td>\n",
       "      <td>0.058514</td>\n",
       "      <td>0.346258</td>\n",
       "      <td>0.259600</td>\n",
       "      <td>0.186120</td>\n",
       "      <td>0.114269</td>\n",
       "      <td>0.000787</td>\n",
       "      <td>0.030814</td>\n",
       "      <td>0.003637</td>\n",
       "      <td>6.748073</td>\n",
       "      <td>0.457</td>\n",
       "      <td>1.133333</td>\n",
       "      <td>1.416667</td>\n",
       "    </tr>\n",
       "    <tr>\n",
       "      <th>4</th>\n",
       "      <td>Bajhang</td>\n",
       "      <td>0.477381</td>\n",
       "      <td>0.488333</td>\n",
       "      <td>0.073606</td>\n",
       "      <td>0.417432</td>\n",
       "      <td>0.219511</td>\n",
       "      <td>0.138940</td>\n",
       "      <td>0.112037</td>\n",
       "      <td>0.000483</td>\n",
       "      <td>0.034308</td>\n",
       "      <td>0.003682</td>\n",
       "      <td>6.945809</td>\n",
       "      <td>0.568</td>\n",
       "      <td>0.777778</td>\n",
       "      <td>1.583333</td>\n",
       "    </tr>\n",
       "  </tbody>\n",
       "</table>\n",
       "</div>"
      ],
      "text/plain": [
       "       district      male  literacy rate  years_educ1  years_educ2  \\\n",
       "0        Achham  0.461668       0.476151     0.080331     0.394979   \n",
       "1  Arghakhanchi  0.433736       0.652446     0.039106     0.298637   \n",
       "2       Baglung  0.438207       0.647397     0.043599     0.301124   \n",
       "3       Baitadi  0.464469       0.548497     0.058514     0.346258   \n",
       "4       Bajhang  0.477381       0.488333     0.073606     0.417432   \n",
       "\n",
       "   years_educ3  years_educ4  years_educ5  years_educ6  years_educ7  \\\n",
       "0     0.224853     0.145161     0.099263     0.001059     0.050133   \n",
       "1     0.253662     0.189621     0.157736     0.000844     0.057360   \n",
       "2     0.239773     0.186960     0.154035     0.000375     0.070341   \n",
       "3     0.259600     0.186120     0.114269     0.000787     0.030814   \n",
       "4     0.219511     0.138940     0.112037     0.000483     0.034308   \n",
       "\n",
       "   years_educ8    hhsize  poverty rate    nkid06   nkid715  \n",
       "0     0.004221  6.322215         0.472  0.750000  1.166667  \n",
       "1     0.003033  5.179200         0.288  0.458333  1.020833  \n",
       "2     0.003793  5.378669         0.229  0.716667  1.083333  \n",
       "3     0.003637  6.748073         0.457  1.133333  1.416667  \n",
       "4     0.003682  6.945809         0.568  0.777778  1.583333  "
      ]
     },
     "execution_count": 10,
     "metadata": {},
     "output_type": "execute_result"
    }
   ],
   "source": [
    "df.head()"
   ]
  },
  {
   "cell_type": "code",
   "execution_count": 11,
   "metadata": {},
   "outputs": [],
   "source": [
    "#Write the code to display the last 5 columns of the dataframe\n"
   ]
  },
  {
   "cell_type": "markdown",
   "metadata": {},
   "source": [
    "Let us remove Achham and Udayapur for now. We will use the model we created to predict the proverty rate of Accham and Udaypur.\n",
    "\n"
   ]
  },
  {
   "cell_type": "code",
   "execution_count": 12,
   "metadata": {},
   "outputs": [],
   "source": [
    "#Write the code to get rid of the first and last rows of the dataframe and call the new dataframe df_2d\n",
    "df_2d = df[1:-1]"
   ]
  },
  {
   "cell_type": "code",
   "execution_count": 13,
   "metadata": {},
   "outputs": [
    {
     "data": {
      "text/plain": [
       "(69, 15)"
      ]
     },
     "execution_count": 13,
     "metadata": {},
     "output_type": "execute_result"
    }
   ],
   "source": [
    "df_2d.shape"
   ]
  },
  {
   "cell_type": "markdown",
   "metadata": {},
   "source": [
    "In two dimensions, the equation of the line is \n",
    "$$y=mx+b $$\n",
    "where b is the intercept and m is the slope of the line. So basically, linear regression algorithm gives us the most optimal value for the intercept and the slope (in two dimensions). The y and x variables remain the same, since they are the data features and cannot be changed. The values that we can control are the intercept(b) and slope(m). There can be multiple straight lines depending upon the values of intercept and slope. Basically what the linear regression algorithm does is it fits multiple lines on the data points and returns the line that results in the least error."
   ]
  },
  {
   "cell_type": "code",
   "execution_count": 14,
   "metadata": {
    "colab": {},
    "colab_type": "code",
    "id": "ledhxsxyHcaw"
   },
   "outputs": [],
   "source": [
    "model= LinearRegression()"
   ]
  },
  {
   "cell_type": "code",
   "execution_count": 15,
   "metadata": {
    "colab": {
     "base_uri": "https://localhost:8080/",
     "height": 193
    },
    "colab_type": "code",
    "id": "Odn3m5ZxHgEN",
    "outputId": "e574a320-b789-498c-d0e7-2884192342af"
   },
   "outputs": [
    {
     "data": {
      "text/plain": [
       "LinearRegression(copy_X=True, fit_intercept=True, n_jobs=None, normalize=False)"
      ]
     },
     "execution_count": 15,
     "metadata": {},
     "output_type": "execute_result"
    }
   ],
   "source": [
    "#Fill in the x and y values for fit (Note that we want to predict the poverty rates given the literacy rates)\n",
    "model.fit(df_2d[['literacy rate']],df_2d[['poverty rate']])"
   ]
  },
  {
   "cell_type": "code",
   "execution_count": 16,
   "metadata": {
    "colab": {},
    "colab_type": "code",
    "id": "F93wA_XlHq4D"
   },
   "outputs": [],
   "source": [
    "#Fill in the x values for predict (Note that we want to predict the poverty rates given the literacy rates)\n",
    "predictions = model.predict(df_2d[['literacy rate']])"
   ]
  },
  {
   "cell_type": "code",
   "execution_count": 17,
   "metadata": {
    "colab": {},
    "colab_type": "code",
    "id": "OPR8C7RXTc7M"
   },
   "outputs": [
    {
     "name": "stderr",
     "output_type": "stream",
     "text": [
      "/home/adhikari/anaconda3/lib/python3.7/site-packages/ipykernel_launcher.py:1: SettingWithCopyWarning: \n",
      "A value is trying to be set on a copy of a slice from a DataFrame.\n",
      "Try using .loc[row_indexer,col_indexer] = value instead\n",
      "\n",
      "See the caveats in the documentation: http://pandas.pydata.org/pandas-docs/stable/indexing.html#indexing-view-versus-copy\n",
      "  \"\"\"Entry point for launching an IPython kernel.\n"
     ]
    }
   ],
   "source": [
    "df_2d['predictions'] = predictions"
   ]
  },
  {
   "cell_type": "code",
   "execution_count": 18,
   "metadata": {},
   "outputs": [
    {
     "data": {
      "text/html": [
       "<div>\n",
       "<style scoped>\n",
       "    .dataframe tbody tr th:only-of-type {\n",
       "        vertical-align: middle;\n",
       "    }\n",
       "\n",
       "    .dataframe tbody tr th {\n",
       "        vertical-align: top;\n",
       "    }\n",
       "\n",
       "    .dataframe thead th {\n",
       "        text-align: right;\n",
       "    }\n",
       "</style>\n",
       "<table border=\"1\" class=\"dataframe\">\n",
       "  <thead>\n",
       "    <tr style=\"text-align: right;\">\n",
       "      <th></th>\n",
       "      <th>district</th>\n",
       "      <th>male</th>\n",
       "      <th>literacy rate</th>\n",
       "      <th>years_educ1</th>\n",
       "      <th>years_educ2</th>\n",
       "      <th>years_educ3</th>\n",
       "      <th>years_educ4</th>\n",
       "      <th>years_educ5</th>\n",
       "      <th>years_educ6</th>\n",
       "      <th>years_educ7</th>\n",
       "      <th>years_educ8</th>\n",
       "      <th>hhsize</th>\n",
       "      <th>poverty rate</th>\n",
       "      <th>nkid06</th>\n",
       "      <th>nkid715</th>\n",
       "      <th>predictions</th>\n",
       "    </tr>\n",
       "  </thead>\n",
       "  <tbody>\n",
       "    <tr>\n",
       "      <th>1</th>\n",
       "      <td>Arghakhanchi</td>\n",
       "      <td>0.433736</td>\n",
       "      <td>0.652446</td>\n",
       "      <td>0.039106</td>\n",
       "      <td>0.298637</td>\n",
       "      <td>0.253662</td>\n",
       "      <td>0.189621</td>\n",
       "      <td>0.157736</td>\n",
       "      <td>0.000844</td>\n",
       "      <td>0.057360</td>\n",
       "      <td>0.003033</td>\n",
       "      <td>5.179200</td>\n",
       "      <td>0.288</td>\n",
       "      <td>0.458333</td>\n",
       "      <td>1.020833</td>\n",
       "      <td>0.204699</td>\n",
       "    </tr>\n",
       "    <tr>\n",
       "      <th>2</th>\n",
       "      <td>Baglung</td>\n",
       "      <td>0.438207</td>\n",
       "      <td>0.647397</td>\n",
       "      <td>0.043599</td>\n",
       "      <td>0.301124</td>\n",
       "      <td>0.239773</td>\n",
       "      <td>0.186960</td>\n",
       "      <td>0.154035</td>\n",
       "      <td>0.000375</td>\n",
       "      <td>0.070341</td>\n",
       "      <td>0.003793</td>\n",
       "      <td>5.378669</td>\n",
       "      <td>0.229</td>\n",
       "      <td>0.716667</td>\n",
       "      <td>1.083333</td>\n",
       "      <td>0.209476</td>\n",
       "    </tr>\n",
       "    <tr>\n",
       "      <th>3</th>\n",
       "      <td>Baitadi</td>\n",
       "      <td>0.464469</td>\n",
       "      <td>0.548497</td>\n",
       "      <td>0.058514</td>\n",
       "      <td>0.346258</td>\n",
       "      <td>0.259600</td>\n",
       "      <td>0.186120</td>\n",
       "      <td>0.114269</td>\n",
       "      <td>0.000787</td>\n",
       "      <td>0.030814</td>\n",
       "      <td>0.003637</td>\n",
       "      <td>6.748073</td>\n",
       "      <td>0.457</td>\n",
       "      <td>1.133333</td>\n",
       "      <td>1.416667</td>\n",
       "      <td>0.303067</td>\n",
       "    </tr>\n",
       "    <tr>\n",
       "      <th>4</th>\n",
       "      <td>Bajhang</td>\n",
       "      <td>0.477381</td>\n",
       "      <td>0.488333</td>\n",
       "      <td>0.073606</td>\n",
       "      <td>0.417432</td>\n",
       "      <td>0.219511</td>\n",
       "      <td>0.138940</td>\n",
       "      <td>0.112037</td>\n",
       "      <td>0.000483</td>\n",
       "      <td>0.034308</td>\n",
       "      <td>0.003682</td>\n",
       "      <td>6.945809</td>\n",
       "      <td>0.568</td>\n",
       "      <td>0.777778</td>\n",
       "      <td>1.583333</td>\n",
       "      <td>0.360001</td>\n",
       "    </tr>\n",
       "    <tr>\n",
       "      <th>5</th>\n",
       "      <td>Bajura</td>\n",
       "      <td>0.485493</td>\n",
       "      <td>0.474538</td>\n",
       "      <td>0.093973</td>\n",
       "      <td>0.417503</td>\n",
       "      <td>0.233429</td>\n",
       "      <td>0.136786</td>\n",
       "      <td>0.093656</td>\n",
       "      <td>0.001517</td>\n",
       "      <td>0.019391</td>\n",
       "      <td>0.003744</td>\n",
       "      <td>6.564752</td>\n",
       "      <td>0.641</td>\n",
       "      <td>0.875000</td>\n",
       "      <td>1.166667</td>\n",
       "      <td>0.373055</td>\n",
       "    </tr>\n",
       "  </tbody>\n",
       "</table>\n",
       "</div>"
      ],
      "text/plain": [
       "       district      male  literacy rate  years_educ1  years_educ2  \\\n",
       "1  Arghakhanchi  0.433736       0.652446     0.039106     0.298637   \n",
       "2       Baglung  0.438207       0.647397     0.043599     0.301124   \n",
       "3       Baitadi  0.464469       0.548497     0.058514     0.346258   \n",
       "4       Bajhang  0.477381       0.488333     0.073606     0.417432   \n",
       "5        Bajura  0.485493       0.474538     0.093973     0.417503   \n",
       "\n",
       "   years_educ3  years_educ4  years_educ5  years_educ6  years_educ7  \\\n",
       "1     0.253662     0.189621     0.157736     0.000844     0.057360   \n",
       "2     0.239773     0.186960     0.154035     0.000375     0.070341   \n",
       "3     0.259600     0.186120     0.114269     0.000787     0.030814   \n",
       "4     0.219511     0.138940     0.112037     0.000483     0.034308   \n",
       "5     0.233429     0.136786     0.093656     0.001517     0.019391   \n",
       "\n",
       "   years_educ8    hhsize  poverty rate    nkid06   nkid715  predictions  \n",
       "1     0.003033  5.179200         0.288  0.458333  1.020833     0.204699  \n",
       "2     0.003793  5.378669         0.229  0.716667  1.083333     0.209476  \n",
       "3     0.003637  6.748073         0.457  1.133333  1.416667     0.303067  \n",
       "4     0.003682  6.945809         0.568  0.777778  1.583333     0.360001  \n",
       "5     0.003744  6.564752         0.641  0.875000  1.166667     0.373055  "
      ]
     },
     "execution_count": 18,
     "metadata": {},
     "output_type": "execute_result"
    }
   ],
   "source": [
    "df_2d.head()"
   ]
  },
  {
   "cell_type": "code",
   "execution_count": 19,
   "metadata": {
    "colab": {},
    "colab_type": "code",
    "id": "4AygGy4qRUqk"
   },
   "outputs": [
    {
     "data": {
      "text/plain": [
       "<matplotlib.axes._subplots.AxesSubplot at 0x7f2f6fca0e10>"
      ]
     },
     "execution_count": 19,
     "metadata": {},
     "output_type": "execute_result"
    },
    {
     "data": {
      "image/png": "[encoded data removed]",
      "text/plain": [
       "<Figure size 432x288 with 1 Axes>"
      ]
     },
     "metadata": {
      "needs_background": "light"
     },
     "output_type": "display_data"
    }
   ],
   "source": [
    "#Plotting the regression line and the data in one graph\n",
    "sns.lineplot(x='literacy rate', y = 'predictions', data=df_2d, color='red')\n",
    "sns.scatterplot(x='literacy rate', y = 'poverty rate', data=df_2d)"
   ]
  },
  {
   "cell_type": "markdown",
   "metadata": {},
   "source": [
    "As discussed earlier, linear regression model basically finds the best value for the intercept and slope, which results in a line that best fits the data. To see the value of the intercept and slope calculated by the linear regression algorithm for our dataset, execute the following code."
   ]
  },
  {
   "cell_type": "code",
   "execution_count": 20,
   "metadata": {},
   "outputs": [
    {
     "name": "stdout",
     "output_type": "stream",
     "text": [
      "0.8221182820384326\n",
      "-0.946315665100361\n"
     ]
    }
   ],
   "source": [
    "#To retrieve the intercept:\n",
    "b = model.intercept_[0]\n",
    "print(b)\n",
    "#For retrieving the slope:\n",
    "m = model.coef_[0][0]\n",
    "print(m)"
   ]
  },
  {
   "cell_type": "markdown",
   "metadata": {},
   "source": [
    "So the equation of the line that best fits the data is \n",
    "$$ y = -0.94631567 x + 0.82211828 $$"
   ]
  },
  {
   "cell_type": "markdown",
   "metadata": {
    "colab_type": "text",
    "id": "S9Mzg2kv1TYM"
   },
   "source": [
    "For Achham, the predicted poverty rate is"
   ]
  },
  {
   "cell_type": "code",
   "execution_count": 21,
   "metadata": {
    "colab": {},
    "colab_type": "code",
    "id": "yL4VP-_d2JPh"
   },
   "outputs": [
    {
     "data": {
      "text/plain": [
       "0.372"
      ]
     },
     "execution_count": 21,
     "metadata": {},
     "output_type": "execute_result"
    }
   ],
   "source": [
    "round(m*0.476151+b , 3)"
   ]
  },
  {
   "cell_type": "markdown",
   "metadata": {
    "colab_type": "text",
    "id": "CGzyptQBhnB2"
   },
   "source": [
    "But, we know that the actual poverty rate was 0.472"
   ]
  },
  {
   "cell_type": "markdown",
   "metadata": {
    "colab_type": "text",
    "id": "zFnuMP3xgE9x"
   },
   "source": [
    "For Udaypur, the predicted poverty rate is"
   ]
  },
  {
   "cell_type": "code",
   "execution_count": 22,
   "metadata": {
    "colab": {},
    "colab_type": "code",
    "id": "0wvwnFY2AsSf"
   },
   "outputs": [],
   "source": [
    "#Write the code for finding the poverty rate for Udaypur\n"
   ]
  },
  {
   "cell_type": "markdown",
   "metadata": {},
   "source": [
    "But, we know that the actual poverty rate was 0.259"
   ]
  },
  {
   "cell_type": "markdown",
   "metadata": {
    "colab_type": "text",
    "id": "v6W5oAtVwbxe"
   },
   "source": [
    "The accuracy or score of Linear Regression is tied to how well the data is correlated with each other. The coefficient of dertermination (R^2) for Linear Regression is the square of correlation.   "
   ]
  },
  {
   "cell_type": "markdown",
   "metadata": {},
   "source": [
    "# Scikit-Learn Linear Regression <a class=\"anchor\" id=\"sklearn-linreg\"></a>\n",
    "\n",
    "Scikit-Learn is one of the most popular Python machine learning library available. It contains a multitude of powerful tools the makes it an ideal choice for use in production environments. It provides a very robust, standardized API and comprehensive documentation, so once a user becomes familiar with the structure of building models with the package, it is fairly easy to apply it to other models.\n",
    "\n",
    "For this reason, we will utilize Scikit-Learn throughout the remainder of this workshop. \n",
    "\n",
    "Scikit-Learn's [LinearRegression](http://scikit-learn.org/stable/modules/generated/sklearn.linear_model.LinearRegression.html) model incorporates several different methods behind the scenes that help it to perform more reliably with different types of datasets.\n",
    "\n",
    "We will use four predictor variables - 'hh size', 'literacy rate', 'nkid06' and 'nkid715' and  to predict the 'poverty rate' where -\n",
    "\n",
    "* `literacy rate` -  ratio of literate population and total population in the district\n",
    "\n",
    "* `nkid06` - average share of kids of ages between 1 and 6 in the households of the district\n",
    "\n",
    "* `nkid715` - average share of kids of ages between 7 and 15 in the households of the district\n",
    "\n"
   ]
  },
  {
   "cell_type": "code",
   "execution_count": 23,
   "metadata": {
    "colab": {},
    "colab_type": "code",
    "id": "OYnbtSgho1S8"
   },
   "outputs": [],
   "source": [
    "df_predict = df[['literacy rate','district','nkid06','nkid715','hhsize']]\n",
    "df_y = df[['poverty rate']]"
   ]
  },
  {
   "cell_type": "code",
   "execution_count": 24,
   "metadata": {
    "colab": {
     "base_uri": "https://localhost:8080/",
     "height": 35
    },
    "colab_type": "code",
    "id": "cAr_DnSQqv3f",
    "outputId": "d7618324-1a8f-4506-dfa1-c47bd4707a4c"
   },
   "outputs": [
    {
     "data": {
      "text/plain": [
       "(71, 5)"
      ]
     },
     "execution_count": 24,
     "metadata": {},
     "output_type": "execute_result"
    }
   ],
   "source": [
    "df_predict.shape"
   ]
  },
  {
   "cell_type": "code",
   "execution_count": 25,
   "metadata": {
    "colab": {
     "base_uri": "https://localhost:8080/",
     "height": 124
    },
    "colab_type": "code",
    "id": "V2Yy9BRTpFte",
    "outputId": "d1611102-e901-44b6-fa8e-14c9beea0941"
   },
   "outputs": [
    {
     "name": "stderr",
     "output_type": "stream",
     "text": [
      "/home/adhikari/anaconda3/lib/python3.7/site-packages/ipykernel_launcher.py:1: SettingWithCopyWarning: \n",
      "A value is trying to be set on a copy of a slice from a DataFrame\n",
      "\n",
      "See the caveats in the documentation: http://pandas.pydata.org/pandas-docs/stable/indexing.html#indexing-view-versus-copy\n",
      "  \"\"\"Entry point for launching an IPython kernel.\n"
     ]
    }
   ],
   "source": [
    "df_predict.dropna(inplace=True)"
   ]
  },
  {
   "cell_type": "code",
   "execution_count": 26,
   "metadata": {
    "colab": {
     "base_uri": "https://localhost:8080/",
     "height": 190
    },
    "colab_type": "code",
    "id": "VWEdBp97q4UK",
    "outputId": "060f8ac0-97e9-4e49-9fe3-23382b42d5c5"
   },
   "outputs": [
    {
     "data": {
      "text/plain": [
       "literacy rate    False\n",
       "district         False\n",
       "nkid06           False\n",
       "nkid715          False\n",
       "hhsize           False\n",
       "dtype: bool"
      ]
     },
     "execution_count": 26,
     "metadata": {},
     "output_type": "execute_result"
    }
   ],
   "source": [
    "df_predict.isnull().any()"
   ]
  },
  {
   "cell_type": "code",
   "execution_count": 27,
   "metadata": {},
   "outputs": [
    {
     "name": "stderr",
     "output_type": "stream",
     "text": [
      "/home/adhikari/anaconda3/lib/python3.7/site-packages/pandas/core/frame.py:3697: SettingWithCopyWarning: \n",
      "A value is trying to be set on a copy of a slice from a DataFrame\n",
      "\n",
      "See the caveats in the documentation: http://pandas.pydata.org/pandas-docs/stable/indexing.html#indexing-view-versus-copy\n",
      "  errors=errors)\n"
     ]
    }
   ],
   "source": [
    "#Write the code to drop the column 'district' from the dataframe df_predict\n",
    "df_predict.drop(columns=['district'],inplace=True)"
   ]
  },
  {
   "cell_type": "code",
   "execution_count": 28,
   "metadata": {},
   "outputs": [
    {
     "data": {
      "text/html": [
       "<div>\n",
       "<style scoped>\n",
       "    .dataframe tbody tr th:only-of-type {\n",
       "        vertical-align: middle;\n",
       "    }\n",
       "\n",
       "    .dataframe tbody tr th {\n",
       "        vertical-align: top;\n",
       "    }\n",
       "\n",
       "    .dataframe thead th {\n",
       "        text-align: right;\n",
       "    }\n",
       "</style>\n",
       "<table border=\"1\" class=\"dataframe\">\n",
       "  <thead>\n",
       "    <tr style=\"text-align: right;\">\n",
       "      <th></th>\n",
       "      <th>literacy rate</th>\n",
       "      <th>nkid06</th>\n",
       "      <th>nkid715</th>\n",
       "      <th>hhsize</th>\n",
       "    </tr>\n",
       "  </thead>\n",
       "  <tbody>\n",
       "    <tr>\n",
       "      <th>0</th>\n",
       "      <td>0.476151</td>\n",
       "      <td>0.750000</td>\n",
       "      <td>1.166667</td>\n",
       "      <td>6.322215</td>\n",
       "    </tr>\n",
       "    <tr>\n",
       "      <th>1</th>\n",
       "      <td>0.652446</td>\n",
       "      <td>0.458333</td>\n",
       "      <td>1.020833</td>\n",
       "      <td>5.179200</td>\n",
       "    </tr>\n",
       "    <tr>\n",
       "      <th>2</th>\n",
       "      <td>0.647397</td>\n",
       "      <td>0.716667</td>\n",
       "      <td>1.083333</td>\n",
       "      <td>5.378669</td>\n",
       "    </tr>\n",
       "    <tr>\n",
       "      <th>3</th>\n",
       "      <td>0.548497</td>\n",
       "      <td>1.133333</td>\n",
       "      <td>1.416667</td>\n",
       "      <td>6.748073</td>\n",
       "    </tr>\n",
       "    <tr>\n",
       "      <th>4</th>\n",
       "      <td>0.488333</td>\n",
       "      <td>0.777778</td>\n",
       "      <td>1.583333</td>\n",
       "      <td>6.945809</td>\n",
       "    </tr>\n",
       "  </tbody>\n",
       "</table>\n",
       "</div>"
      ],
      "text/plain": [
       "   literacy rate    nkid06   nkid715    hhsize\n",
       "0       0.476151  0.750000  1.166667  6.322215\n",
       "1       0.652446  0.458333  1.020833  5.179200\n",
       "2       0.647397  0.716667  1.083333  5.378669\n",
       "3       0.548497  1.133333  1.416667  6.748073\n",
       "4       0.488333  0.777778  1.583333  6.945809"
      ]
     },
     "execution_count": 28,
     "metadata": {},
     "output_type": "execute_result"
    }
   ],
   "source": [
    "df_predict.head()"
   ]
  },
  {
   "cell_type": "markdown",
   "metadata": {},
   "source": [
    "Let us split the data in training and testing set. The test_size parameter allows you to control the ratio of testing set you want to randomly capture from your data set. With the random_state parameter you can guarantee that the output of Run 1 will be equal to the output of Run 2, i.e. your split will be always the same."
   ]
  },
  {
   "cell_type": "code",
   "execution_count": 29,
   "metadata": {
    "colab": {},
    "colab_type": "code",
    "id": "FycVICxhGv_Z"
   },
   "outputs": [],
   "source": [
    "X_train, X_test, y_train, y_test = train_test_split(df_predict, df_y, test_size=0.20, random_state=42)"
   ]
  },
  {
   "cell_type": "code",
   "execution_count": 30,
   "metadata": {
    "colab": {
     "base_uri": "https://localhost:8080/",
     "height": 34
    },
    "colab_type": "code",
    "id": "velHrfoUAKhL",
    "outputId": "4416a7c9-a4b2-4d7c-8537-524eae80e938"
   },
   "outputs": [
    {
     "data": {
      "text/plain": [
       "((56, 4), (15, 4), (56, 1), (15, 4))"
      ]
     },
     "execution_count": 30,
     "metadata": {},
     "output_type": "execute_result"
    }
   ],
   "source": [
    "# Let us look at the shape our training and testing splits\n",
    "X_train.shape, X_test.shape, y_train.shape, X_test.shape"
   ]
  },
  {
   "cell_type": "code",
   "execution_count": 31,
   "metadata": {
    "colab": {},
    "colab_type": "code",
    "id": "ledhxsxyHcaw"
   },
   "outputs": [],
   "source": [
    "model= LinearRegression()"
   ]
  },
  {
   "cell_type": "code",
   "execution_count": 32,
   "metadata": {
    "colab": {
     "base_uri": "https://localhost:8080/",
     "height": 193
    },
    "colab_type": "code",
    "id": "Odn3m5ZxHgEN",
    "outputId": "e574a320-b789-498c-d0e7-2884192342af"
   },
   "outputs": [
    {
     "data": {
      "text/plain": [
       "LinearRegression(copy_X=True, fit_intercept=True, n_jobs=None, normalize=False)"
      ]
     },
     "execution_count": 32,
     "metadata": {},
     "output_type": "execute_result"
    }
   ],
   "source": [
    "model.fit(X_train,y_train)"
   ]
  },
  {
   "cell_type": "code",
   "execution_count": 33,
   "metadata": {
    "colab": {},
    "colab_type": "code",
    "id": "F93wA_XlHq4D"
   },
   "outputs": [],
   "source": [
    "predictions = model.predict(X_test)"
   ]
  },
  {
   "cell_type": "code",
   "execution_count": 34,
   "metadata": {
    "colab": {},
    "colab_type": "code",
    "id": "-69fuFcmH2uv"
   },
   "outputs": [],
   "source": [
    "df_compare = X_test.reset_index(drop=True)"
   ]
  },
  {
   "cell_type": "code",
   "execution_count": 35,
   "metadata": {
    "colab": {},
    "colab_type": "code",
    "id": "zUvJlRdOH7x0"
   },
   "outputs": [],
   "source": [
    "df_compare['Actual'] = y_test.values"
   ]
  },
  {
   "cell_type": "code",
   "execution_count": 36,
   "metadata": {
    "colab": {},
    "colab_type": "code",
    "id": "b_9KQbaEH__W"
   },
   "outputs": [],
   "source": [
    "df_compare['Predicted'] = predictions"
   ]
  },
  {
   "cell_type": "code",
   "execution_count": 37,
   "metadata": {
    "colab": {
     "base_uri": "https://localhost:8080/",
     "height": 1000
    },
    "colab_type": "code",
    "id": "lX4yB-80IBqS",
    "outputId": "45299881-7ae3-4169-8e96-3e30bada688b"
   },
   "outputs": [
    {
     "data": {
      "text/html": [
       "<div>\n",
       "<style scoped>\n",
       "    .dataframe tbody tr th:only-of-type {\n",
       "        vertical-align: middle;\n",
       "    }\n",
       "\n",
       "    .dataframe tbody tr th {\n",
       "        vertical-align: top;\n",
       "    }\n",
       "\n",
       "    .dataframe thead th {\n",
       "        text-align: right;\n",
       "    }\n",
       "</style>\n",
       "<table border=\"1\" class=\"dataframe\">\n",
       "  <thead>\n",
       "    <tr style=\"text-align: right;\">\n",
       "      <th></th>\n",
       "      <th>literacy rate</th>\n",
       "      <th>nkid06</th>\n",
       "      <th>nkid715</th>\n",
       "      <th>hhsize</th>\n",
       "      <th>Actual</th>\n",
       "      <th>Predicted</th>\n",
       "    </tr>\n",
       "  </thead>\n",
       "  <tbody>\n",
       "    <tr>\n",
       "      <th>0</th>\n",
       "      <td>0.654978</td>\n",
       "      <td>0.700000</td>\n",
       "      <td>1.083333</td>\n",
       "      <td>5.236356</td>\n",
       "      <td>0.256</td>\n",
       "      <td>0.213130</td>\n",
       "    </tr>\n",
       "    <tr>\n",
       "      <th>1</th>\n",
       "      <td>0.476151</td>\n",
       "      <td>0.750000</td>\n",
       "      <td>1.166667</td>\n",
       "      <td>6.322215</td>\n",
       "      <td>0.472</td>\n",
       "      <td>0.297400</td>\n",
       "    </tr>\n",
       "    <tr>\n",
       "      <th>2</th>\n",
       "      <td>0.584571</td>\n",
       "      <td>1.166667</td>\n",
       "      <td>1.812500</td>\n",
       "      <td>5.813340</td>\n",
       "      <td>0.322</td>\n",
       "      <td>0.363464</td>\n",
       "    </tr>\n",
       "    <tr>\n",
       "      <th>3</th>\n",
       "      <td>0.488333</td>\n",
       "      <td>0.777778</td>\n",
       "      <td>1.583333</td>\n",
       "      <td>6.945809</td>\n",
       "      <td>0.568</td>\n",
       "      <td>0.328710</td>\n",
       "    </tr>\n",
       "    <tr>\n",
       "      <th>4</th>\n",
       "      <td>0.631131</td>\n",
       "      <td>0.744444</td>\n",
       "      <td>1.283333</td>\n",
       "      <td>7.264983</td>\n",
       "      <td>0.173</td>\n",
       "      <td>0.224538</td>\n",
       "    </tr>\n",
       "  </tbody>\n",
       "</table>\n",
       "</div>"
      ],
      "text/plain": [
       "   literacy rate    nkid06   nkid715    hhsize  Actual  Predicted\n",
       "0       0.654978  0.700000  1.083333  5.236356   0.256   0.213130\n",
       "1       0.476151  0.750000  1.166667  6.322215   0.472   0.297400\n",
       "2       0.584571  1.166667  1.812500  5.813340   0.322   0.363464\n",
       "3       0.488333  0.777778  1.583333  6.945809   0.568   0.328710\n",
       "4       0.631131  0.744444  1.283333  7.264983   0.173   0.224538"
      ]
     },
     "execution_count": 37,
     "metadata": {},
     "output_type": "execute_result"
    }
   ],
   "source": [
    "df_compare.head()"
   ]
  },
  {
   "cell_type": "code",
   "execution_count": 38,
   "metadata": {},
   "outputs": [
    {
     "name": "stdout",
     "output_type": "stream",
     "text": [
      "<class 'pandas.core.frame.DataFrame'>\n",
      "RangeIndex: 15 entries, 0 to 14\n",
      "Data columns (total 6 columns):\n",
      "literacy rate    15 non-null float64\n",
      "nkid06           15 non-null float64\n",
      "nkid715          15 non-null float64\n",
      "hhsize           15 non-null float64\n",
      "Actual           15 non-null float64\n",
      "Predicted        15 non-null float64\n",
      "dtypes: float64(6)\n",
      "memory usage: 800.0 bytes\n"
     ]
    }
   ],
   "source": [
    "df_compare.info()"
   ]
  },
  {
   "cell_type": "code",
   "execution_count": 44,
   "metadata": {
    "colab": {
     "base_uri": "https://localhost:8080/",
     "height": 296
    },
    "colab_type": "code",
    "id": "4FvorrKoQ45s",
    "outputId": "44b48230-321f-4a60-edd6-892010690c90"
   },
   "outputs": [
    {
     "data": {
      "text/plain": [
       "<matplotlib.axes._subplots.AxesSubplot at 0x7f2f65935f28>"
      ]
     },
     "execution_count": 44,
     "metadata": {},
     "output_type": "execute_result"
    },
    {
     "data": {
      "image/png": "[encoded data removed]",
      "text/plain": [
       "<Figure size 432x288 with 1 Axes>"
      ]
     },
     "metadata": {
      "needs_background": "light"
     },
     "output_type": "display_data"
    }
   ],
   "source": [
    "#Write a code to plot a scatterplot of the 'Actual' and the 'Predicted' values from df_compare\n",
    "\n",
    "sns.scatterplot(x='Actual', y = 'Predicted', data=df_compare,alpha=0.8)"
   ]
  },
  {
   "cell_type": "markdown",
   "metadata": {},
   "source": [
    "The evaluation of Linear Regression can also be done by finding the residuals, which is the difference of the actual and the predicted values. The values of the residuals should be close to zero."
   ]
  },
  {
   "cell_type": "code",
   "execution_count": 41,
   "metadata": {},
   "outputs": [],
   "source": [
    "df_compare['residuals'] = df_compare['Actual'] - df_compare['Predicted']"
   ]
  },
  {
   "cell_type": "code",
   "execution_count": 42,
   "metadata": {
    "colab": {
     "base_uri": "https://localhost:8080/",
     "height": 296
    },
    "colab_type": "code",
    "id": "DVatMDiNaVTL",
    "outputId": "fcdac581-1ad7-466e-d4df-4baaf4c7582f"
   },
   "outputs": [
    {
     "data": {
      "text/plain": [
       "<matplotlib.axes._subplots.AxesSubplot at 0x7f2f6faa5080>"
      ]
     },
     "execution_count": 42,
     "metadata": {},
     "output_type": "execute_result"
    },
    {
     "data": {
      "image/png": "[encoded data removed]",
      "text/plain": [
       "<Figure size 432x288 with 1 Axes>"
      ]
     },
     "metadata": {
      "needs_background": "light"
     },
     "output_type": "display_data"
    }
   ],
   "source": [
    "sns.scatterplot(x='Predicted', y = 'residuals', data=df_compare)"
   ]
  },
  {
   "cell_type": "code",
   "execution_count": 43,
   "metadata": {},
   "outputs": [
    {
     "data": {
      "text/plain": [
       "0.01710873855574724"
      ]
     },
     "execution_count": 43,
     "metadata": {},
     "output_type": "execute_result"
    }
   ],
   "source": [
    "from sklearn import metrics\n",
    "metrics.mean_squared_error(df_compare['Actual'],df_compare['Predicted'])"
   ]
  },
  {
   "cell_type": "markdown",
   "metadata": {},
   "source": [
    "# Linear Regression Summary <a class=\"anchor\" id=\"summary\"></a>\n",
    "In this notebook, we have covered the basic concepts of a linear regression, and applied it to estimating poverty rates using several socio-economic variables. "
   ]
  },
  {
   "cell_type": "code",
   "execution_count": null,
   "metadata": {},
   "outputs": [],
   "source": []
  }
 ],
 "metadata": {
  "colab": {
   "collapsed_sections": [],
   "name": "Lab on Linear Regression",
   "provenance": []
  },
  "kernelspec": {
   "display_name": "Python 3",
   "language": "python",
   "name": "python3"
  },
  "language_info": {
   "codemirror_mode": {
    "name": "ipython",
    "version": 3
   },
   "file_extension": ".py",
   "mimetype": "text/x-python",
   "name": "python",
   "nbconvert_exporter": "python",
   "pygments_lexer": "ipython3",
   "version": "3.7.1"
  }
 },
 "nbformat": 4,
 "nbformat_minor": 2
}
