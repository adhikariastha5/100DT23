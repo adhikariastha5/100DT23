{
 "cells": [
  {
   "cell_type": "markdown",
   "metadata": {},
   "source": [
    "# Basic Data Types\n"
   ]
  },
  {
   "cell_type": "code",
   "execution_count": 1,
   "metadata": {},
   "outputs": [],
   "source": [
    "# integers\n",
    "x = 3"
   ]
  },
  {
   "cell_type": "code",
   "execution_count": 2,
   "metadata": {},
   "outputs": [
    {
     "name": "stdout",
     "output_type": "stream",
     "text": [
      "3\n",
      "<class 'int'>\n"
     ]
    }
   ],
   "source": [
    "print(x)       # Prints \"3\"\n",
    "print(type(x)) # Prints \"<class 'int'>\""
   ]
  },
  {
   "cell_type": "code",
   "execution_count": 3,
   "metadata": {},
   "outputs": [
    {
     "name": "stdout",
     "output_type": "stream",
     "text": [
      "2.5\n",
      "<class 'float'>\n"
     ]
    }
   ],
   "source": [
    "# floating numbers\n",
    "y = 2.5\n",
    "\n",
    "print(y)\n",
    "print(type(y)) "
   ]
  },
  {
   "cell_type": "code",
   "execution_count": 4,
   "metadata": {},
   "outputs": [
    {
     "name": "stdout",
     "output_type": "stream",
     "text": [
      "hello\n",
      "<class 'str'>\n"
     ]
    }
   ],
   "source": [
    "# Strings\n",
    "\n",
    "h = 'hello'    # String literals can use single quotes\n",
    "w = \"world\"    # or double quotes; it does not matter.\n",
    "\n",
    "print(h)       # Prints \"hello\"\n",
    "print(type(h))  # String length; prints \"5\""
   ]
  },
  {
   "cell_type": "code",
   "execution_count": 5,
   "metadata": {},
   "outputs": [
    {
     "name": "stdout",
     "output_type": "stream",
     "text": [
      "True\n",
      "<class 'bool'>\n"
     ]
    }
   ],
   "source": [
    "t = True\n",
    "f = False\n",
    "\n",
    "print(t)\n",
    "print(type(t)) # Prints \"<class 'bool'>\""
   ]
  },
  {
   "cell_type": "markdown",
   "metadata": {},
   "source": [
    "# Basic Operations\n",
    "\n",
    "numeric, shorthand, string"
   ]
  },
  {
   "cell_type": "code",
   "execution_count": 6,
   "metadata": {},
   "outputs": [
    {
     "name": "stdout",
     "output_type": "stream",
     "text": [
      "4\n",
      "2\n",
      "6\n",
      "9\n"
     ]
    }
   ],
   "source": [
    "# numeric operators\n",
    "\n",
    "x = 3\n",
    "\n",
    "print(x + 1)   # Addition; prints \"4\"\n",
    "print(x - 1)   # Subtraction; prints \"2\"\n",
    "print(x * 2)   # Multiplication; prints \"6\"\n",
    "print(x ** 2)  # Exponentiation; prints \"9\""
   ]
  },
  {
   "cell_type": "code",
   "execution_count": 8,
   "metadata": {},
   "outputs": [
    {
     "name": "stdout",
     "output_type": "stream",
     "text": [
      "9\n",
      "18\n"
     ]
    }
   ],
   "source": [
    "# shorthand operators\n",
    "\n",
    "x += 1\n",
    "print(x)  # Prints \"4\"\n",
    "\n",
    "x *= 2\n",
    "print(x)  # Prints \"8\""
   ]
  },
  {
   "cell_type": "code",
   "execution_count": 9,
   "metadata": {},
   "outputs": [
    {
     "name": "stdout",
     "output_type": "stream",
     "text": [
      "False\n",
      "True\n",
      "False\n",
      "True\n"
     ]
    }
   ],
   "source": [
    "# boolean operators\n",
    "\n",
    "t = True\n",
    "f = False\n",
    "\n",
    "print(t and f) # Logical AND; prints \"False\"\n",
    "print(t or f)  # Logical OR; prints \"True\"\n",
    "print(not t)   # Logical NOT; prints \"False\"\n",
    "print(t != f)  # Logical XOR; prints \"True\""
   ]
  },
  {
   "cell_type": "code",
   "execution_count": 11,
   "metadata": {},
   "outputs": [
    {
     "name": "stdout",
     "output_type": "stream",
     "text": [
      "hello pokhara\n"
     ]
    }
   ],
   "source": [
    "# string concatenation\n",
    "hw = 'hello' + ' ' + 'pokhara'  # String concatenation\n",
    "print(hw)  # prints \"hello world\""
   ]
  },
  {
   "cell_type": "code",
   "execution_count": 15,
   "metadata": {},
   "outputs": [
    {
     "name": "stdout",
     "output_type": "stream",
     "text": [
      "7\n",
      "Pokhara\n",
      "POKHARA\n",
      "Pokhareli\n",
      "Pokhara\n"
     ]
    }
   ],
   "source": [
    "s = \"Pokhara\"\n",
    "\n",
    "print(len(s))  # String length\n",
    "print(s.capitalize())  # Capitalize a string\n",
    "print(s.upper())       # Convert a string to uppercase\n",
    "print(s.replace('ra', 'reli'))  # Replace all instances of one substring with another;\n",
    "print('  Pokhara '.strip())  # Strip leading and trailing whitespace"
   ]
  },
  {
   "cell_type": "code",
   "execution_count": 16,
   "metadata": {},
   "outputs": [
    {
     "name": "stdout",
     "output_type": "stream",
     "text": [
      "Hello, Pokhara!\n"
     ]
    }
   ],
   "source": [
    "# string formatting\n",
    "\n",
    "city = \"Pokhara\"\n",
    "print(\"Hello, %s!\" % city)"
   ]
  },
  {
   "cell_type": "code",
   "execution_count": 17,
   "metadata": {},
   "outputs": [
    {
     "name": "stdout",
     "output_type": "stream",
     "text": [
      "Pokhara is 200 kilometers away from Kathmandu.\n"
     ]
    }
   ],
   "source": [
    "city1 = \"Pokhara\"\n",
    "city2 = \"Kathmandu\"\n",
    "distance = 200\n",
    "unit = \"kilometers\"\n",
    "print(\"%s is %d %s away from %s.\" % (city1,distance, unit,city2))"
   ]
  },
  {
   "cell_type": "markdown",
   "metadata": {},
   "source": [
    "# Functions and Iterations"
   ]
  },
  {
   "cell_type": "code",
   "execution_count": 18,
   "metadata": {},
   "outputs": [
    {
     "name": "stdout",
     "output_type": "stream",
     "text": [
      "Pokhara\n",
      "Hello Pokhara!\n",
      "Kathmandu\n",
      "Hello Kathmandu!\n",
      "Tashkent\n",
      "Hello Tashkent!\n"
     ]
    }
   ],
   "source": [
    "def my_function(city):\n",
    "    print(city)\n",
    "    return 'Hello '+ city + \"!\"\n",
    "\n",
    "print(my_function('Pokhara'))\n",
    "print(my_function('Kathmandu'))\n",
    "print(my_function('Tashkent'))\n"
   ]
  },
  {
   "cell_type": "code",
   "execution_count": 19,
   "metadata": {},
   "outputs": [
    {
     "name": "stdout",
     "output_type": "stream",
     "text": [
      "Pokhara\n",
      "Kathmandu\n",
      "Tashkent\n"
     ]
    }
   ],
   "source": [
    "def my_loop_function(city):\n",
    "  for x in city:\n",
    "    print(x)\n",
    "\n",
    "cities = [\"Pokhara\", \"Kathmandu\", \"Tashkent\"]\n",
    "\n",
    "my_loop_function(cities)"
   ]
  },
  {
   "cell_type": "markdown",
   "metadata": {},
   "source": [
    "# Exercise\n",
    "\n",
    "Write a function that takes 'city name' as input and prints: 'city name' must be a beautiful city. But we bet not as beautiful as Pokhara."
   ]
  },
  {
   "cell_type": "code",
   "execution_count": 26,
   "metadata": {},
   "outputs": [],
   "source": [
    "def cityname(name):\n",
    "    \n",
    "    print(name + ' must be a beautiful city. But we bet not as beautiful as Pokhara.')"
   ]
  },
  {
   "cell_type": "code",
   "execution_count": 27,
   "metadata": {},
   "outputs": [
    {
     "name": "stdout",
     "output_type": "stream",
     "text": [
      "Kathmandu must be a beautiful city. But we bet not as beautiful as Pokhara.\n"
     ]
    }
   ],
   "source": [
    "cityname('Kathmandu')"
   ]
  },
  {
   "cell_type": "code",
   "execution_count": null,
   "metadata": {},
   "outputs": [],
   "source": []
  }
 ],
 "metadata": {
  "kernelspec": {
   "display_name": "Python 3",
   "language": "python",
   "name": "python3"
  },
  "language_info": {
   "codemirror_mode": {
    "name": "ipython",
    "version": 3
   },
   "file_extension": ".py",
   "mimetype": "text/x-python",
   "name": "python",
   "nbconvert_exporter": "python",
   "pygments_lexer": "ipython3",
   "version": "3.7.1"
  }
 },
 "nbformat": 4,
 "nbformat_minor": 2
}
