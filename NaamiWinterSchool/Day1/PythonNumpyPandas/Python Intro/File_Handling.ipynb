{
 "cells": [
  {
   "cell_type": "code",
   "execution_count": 1,
   "metadata": {},
   "outputs": [],
   "source": [
    "f = open('../data/saarc.csv', \"r\") #opens a file to read"
   ]
  },
  {
   "cell_type": "code",
   "execution_count": 2,
   "metadata": {},
   "outputs": [
    {
     "name": "stdout",
     "output_type": "stream",
     "text": [
      "Country,Population,GDP,GDPperCapita,GrowthRate\n",
      "Afghanistan,37171921,19585,2017,2.30%\n",
      "Bangladesh,161376708,314656,4992,7.70%\n",
      "Bhutan,754388,2627,9540,6.40%\n",
      "India,1352642280,2716746,7874,7%\n",
      "Maldives,515696,5302,21760,6.90%\n",
      "Nepal,28095714,28812,2905,6.20%\n",
      "Pakistan,212228286,278019,5839,3.30%\n",
      "Sri Lanka,21228763,88223,13397,3%\n",
      "\n"
     ]
    }
   ],
   "source": [
    "print(f.read())\n"
   ]
  },
  {
   "cell_type": "code",
   "execution_count": 3,
   "metadata": {},
   "outputs": [],
   "source": [
    "f = open('../data/hello.txt', \"w\")  #opens a file to write. creates new one if no existing  file\n",
    "\n",
    "f.write(\"Now the file has some content!\")\n",
    "f.close()\n"
   ]
  },
  {
   "cell_type": "code",
   "execution_count": 4,
   "metadata": {},
   "outputs": [
    {
     "data": {
      "text/plain": [
       "'Now the file has some content!'"
      ]
     },
     "execution_count": 4,
     "metadata": {},
     "output_type": "execute_result"
    }
   ],
   "source": [
    "f = open('../data/hello.txt', \"r\")\n",
    "f.read()"
   ]
  },
  {
   "cell_type": "code",
   "execution_count": 5,
   "metadata": {},
   "outputs": [
    {
     "data": {
      "text/plain": [
       "47"
      ]
     },
     "execution_count": 5,
     "metadata": {},
     "output_type": "execute_result"
    }
   ],
   "source": [
    "f = open('../data/hello.txt', \"a\")\n",
    "f.write(\"Now the file has even ******more****** content!\")"
   ]
  },
  {
   "cell_type": "code",
   "execution_count": 6,
   "metadata": {},
   "outputs": [
    {
     "data": {
      "text/plain": [
       "'Now the file has some content!Now the file has even ******more****** content!'"
      ]
     },
     "execution_count": 6,
     "metadata": {},
     "output_type": "execute_result"
    }
   ],
   "source": [
    "f = open('../data/hello.txt', \"r\")\n",
    "f.read()"
   ]
  },
  {
   "cell_type": "code",
   "execution_count": null,
   "metadata": {},
   "outputs": [],
   "source": []
  }
 ],
 "metadata": {
  "kernelspec": {
   "display_name": "Python 3",
   "language": "python",
   "name": "python3"
  },
  "language_info": {
   "codemirror_mode": {
    "name": "ipython",
    "version": 3
   },
   "file_extension": ".py",
   "mimetype": "text/x-python",
   "name": "python",
   "nbconvert_exporter": "python",
   "pygments_lexer": "ipython3",
   "version": "3.7.1"
  }
 },
 "nbformat": 4,
 "nbformat_minor": 2
}
